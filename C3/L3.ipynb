{
 "cells": [
  {
   "cell_type": "code",
   "execution_count": 1,
   "metadata": {
    "collapsed": false
   },
   "outputs": [
    {
     "name": "stdout",
     "output_type": "stream",
     "text": [
      "Ubuntu Server running at: 130.238.29.107\n"
     ]
    }
   ],
   "source": [
    "import os\n",
    "from sys import argv\n",
    "import time\n",
    "from novaclient.client import Client\n",
    "\n",
    "config = {'username':os.environ['OS_USERNAME'],\n",
    "          'api_key':os.environ['OS_PASSWORD'],\n",
    "          'project_id':os.environ['OS_TENANT_NAME'],\n",
    "          'auth_url':os.environ['OS_AUTH_URL']}\n",
    "\n",
    "nc = Client('2',**config)\n",
    "ubuntu = 'Ubuntu Server 14.04 LTS (Trusty Tahr)'\n",
    "image = nc.images.find(name=ubuntu)\n",
    "flavor = nc.flavors.find(name='m1.medium')\n",
    "network = nc.networks.find(label='ACC-Course-net')\n",
    "userdata = open('userdata-project.yml', 'r')\n",
    "name = argv[1]\n",
    "\n",
    "try:\n",
    "    server = nc.servers.create(name=name, image=image.id, flavor=flavor.id,\n",
    "                               network=network.id, key_name='haadkey',\n",
    "                               userdata=userdata, security_groups=None)\n",
    "finally:\n",
    "    userdata.close()\n",
    "\n",
    "floating_ips = nc.floating_ips.list()\n",
    "state = server.status\n",
    "\n",
    "while(state == 'BUILD'):\n",
    "    time.sleep(4)\n",
    "    server = nc.servers.get(server.id)\n",
    "    state = server.status\n",
    "\n",
    "for ip in floating_ips:\n",
    "    if ip.instance_id == None:\n",
    "        server.add_floating_ip(ip)\n",
    "        print 'Ubuntu Server running at: {}'.format(ip.ip)\n",
    "        break\n",
    "else:\n",
    "    print 'No available floating IPs in the pool'\n"
   ]
  },
  {
   "cell_type": "code",
   "execution_count": 7,
   "metadata": {
    "collapsed": false
   },
   "outputs": [
    {
     "name": "stdout",
     "output_type": "stream",
     "text": [
      "tweets_0.txt\n",
      "tweets_1.txt\n",
      "tweets_10.txt\n",
      "tweets_11.txt\n",
      "tweets_12.txt\n",
      "tweets_13.txt\n",
      "tweets_14.txt\n",
      "tweets_15.txt\n",
      "tweets_16.txt\n",
      "tweets_17.txt\n",
      "tweets_18.txt\n",
      "tweets_19.txt\n",
      "tweets_2.txt\n",
      "tweets_3.txt\n",
      "tweets_4.txt\n",
      "tweets_5.txt\n",
      "tweets_6.txt\n",
      "tweets_7.txt\n",
      "tweets_8.txt\n",
      "tweets_9.txt\n"
     ]
    }
   ],
   "source": [
    "import uuid\n",
    "import swiftclient.client\n",
    "config = {'user':os.environ['OS_USERNAME'], \n",
    "          'key':os.environ['OS_PASSWORD'],\n",
    "          'tenant_name':os.environ['OS_TENANT_NAME'],\n",
    "          'authurl':os.environ['OS_AUTH_URL']}\n",
    "\n",
    "\n",
    "conn = swiftclient.client.Connection(auth_version=2, **config)\n",
    "tmp = conn.get_container(\"tweets\")\n",
    "for num in range(0,len(tmp[1])):\n",
    "    print(tmp[1][num]['name'])\n",
    "    #print(tmp[1][num])\n",
    "    "
   ]
  },
  {
   "cell_type": "code",
   "execution_count": 8,
   "metadata": {
    "collapsed": true
   },
   "outputs": [],
   "source": [
    "a = conn.get_object(\"tweets\", 'tweets_0.txt')\n"
   ]
  },
  {
   "cell_type": "code",
   "execution_count": 9,
   "metadata": {
    "collapsed": true
   },
   "outputs": [],
   "source": [
    "from celery import Celery\n",
    "import json\n",
    "from collections import Counter\n",
    "\n",
    "app = Celery('tasks', backend='rpc://', broker='amqp://')\n",
    "\n",
    "@app.task\n",
    "def getJson():\n",
    "    #with open(\"/home/hampus/skola/CloudComputing/FilesFromAssignments2015-09-15/C3/localSolution/tweets.txt\") as f:\n",
    "    content = a #f.readlines()\n",
    "    tmp = runme.delay(content)\n",
    "    return tmp\n",
    "\n",
    "\n",
    "# INPUT = list \n",
    "# Varje rad motsvarar en array. varannat.\n",
    "@app.task\n",
    "def runme(Jdata):\n",
    "    tmp = Counter()\n",
    "\n",
    "    for item in Jdata:\n",
    "        if(1<len(item)): # Removes Empty rows\n",
    "            tmp = tmp + manageRow.delay(item)            \n",
    "    return(tmp)\n",
    "\n",
    "@app.task\n",
    "def manageRow(item):\n",
    "    result = Counter()\n",
    "    data = json.loads(item)\n",
    "    if('retweeted_status' not in data.keys()): #Removes retweets\n",
    "        result  = Counter(data['text'].split())\n",
    "    return result\n",
    "\n",
    "#runme(getJson())\n"
   ]
  },
  {
   "cell_type": "code",
   "execution_count": 11,
   "metadata": {
    "collapsed": false
   },
   "outputs": [],
   "source": [
    "tmp = getJson.delay()"
   ]
  },
  {
   "cell_type": "code",
   "execution_count": 13,
   "metadata": {
    "collapsed": false
   },
   "outputs": [
    {
     "data": {
      "text/plain": [
       "False"
      ]
     },
     "execution_count": 13,
     "metadata": {},
     "output_type": "execute_result"
    }
   ],
   "source": [
    "tmp.ready()"
   ]
  },
  {
   "cell_type": "code",
   "execution_count": null,
   "metadata": {
    "collapsed": true
   },
   "outputs": [],
   "source": [
    "print(tmp.get())"
   ]
  }
 ],
 "metadata": {
  "kernelspec": {
   "display_name": "Python 2",
   "language": "python",
   "name": "python2"
  },
  "language_info": {
   "codemirror_mode": {
    "name": "ipython",
    "version": 2
   },
   "file_extension": ".py",
   "mimetype": "text/x-python",
   "name": "python",
   "nbconvert_exporter": "python",
   "pygments_lexer": "ipython2",
   "version": "2.7.6"
  }
 },
 "nbformat": 4,
 "nbformat_minor": 0
}
