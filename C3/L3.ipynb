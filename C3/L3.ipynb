{
 "cells": [
  {
   "cell_type": "code",
   "execution_count": 16,
   "metadata": {
    "collapsed": false
   },
   "outputs": [
    {
     "name": "stdout",
     "output_type": "stream",
     "text": [
      "Ubuntu Server running at: 130.238.29.5\n"
     ]
    }
   ],
   "source": [
    "import os\n",
    "from sys import argv\n",
    "import time\n",
    "from novaclient.client import Client\n",
    "\n",
    "config = {'username':os.environ['OS_USERNAME'],\n",
    "          'api_key':os.environ['OS_PASSWORD'],\n",
    "          'project_id':os.environ['OS_TENANT_NAME'],\n",
    "          'auth_url':os.environ['OS_AUTH_URL']}\n",
    "\n",
    "nc = Client('2',**config)\n",
    "ubuntu = 'Ubuntu Server 14.04 LTS (Trusty Tahr)'\n",
    "image = nc.images.find(name=ubuntu)\n",
    "flavor = nc.flavors.find(name='m1.medium')\n",
    "network = nc.networks.find(label='ACC-Course-net')\n",
    "userdata = open('userdata-project.yml', 'r')\n",
    "name = \"haad3\"\n",
    "\n",
    "try:\n",
    "    server = nc.servers.create(name=name, image=image.id, flavor=flavor.id,\n",
    "                               network=network.id, key_name='haadkey',\n",
    "                               userdata=userdata, security_groups=None)\n",
    "finally:\n",
    "    userdata.close()\n",
    "\n",
    "floating_ips = nc.floating_ips.list()\n",
    "state = server.status\n",
    "\n",
    "while(state == 'BUILD'):\n",
    "    time.sleep(4)\n",
    "    server = nc.servers.get(server.id)\n",
    "    state = server.status\n",
    "\n",
    "for ip in floating_ips:\n",
    "    if ip.instance_id == None:\n",
    "        server.add_floating_ip(ip)\n",
    "        print 'Ubuntu Server running at: {}'.format(ip.ip)\n",
    "        break\n",
    "else:\n",
    "    print 'No available floating IPs in the pool'\n"
   ]
  },
  {
   "cell_type": "code",
   "execution_count": 1,
   "metadata": {
    "collapsed": false
   },
   "outputs": [
    {
     "name": "stdout",
     "output_type": "stream",
     "text": [
      "tweets_0.txt\n",
      "tweets_1.txt\n",
      "tweets_10.txt\n",
      "tweets_11.txt\n",
      "tweets_12.txt\n",
      "tweets_13.txt\n",
      "tweets_14.txt\n",
      "tweets_15.txt\n",
      "tweets_16.txt\n",
      "tweets_17.txt\n",
      "tweets_18.txt\n",
      "tweets_19.txt\n",
      "tweets_2.txt\n",
      "tweets_3.txt\n",
      "tweets_4.txt\n",
      "tweets_5.txt\n",
      "tweets_6.txt\n",
      "tweets_7.txt\n",
      "tweets_8.txt\n",
      "tweets_9.txt\n"
     ]
    }
   ],
   "source": [
    "import os\n",
    "from sys import argv\n",
    "import time\n",
    "from novaclient.client import Client\n",
    "import uuid\n",
    "import swiftclient.client\n",
    "config = {'user':os.environ['OS_USERNAME'], \n",
    "          'key':os.environ['OS_PASSWORD'],\n",
    "          'tenant_name':os.environ['OS_TENANT_NAME'],\n",
    "          'authurl':os.environ['OS_AUTH_URL']}\n",
    "\n",
    "\n",
    "conn = swiftclient.client.Connection(auth_version=2, **config)\n",
    "tmp = conn.get_container(\"tweets\")\n",
    "for num in range(0,len(tmp[1])):\n",
    "    print(tmp[1][num]['name'])\n",
    "    #print(tmp[1][num])\n",
    "    "
   ]
  },
  {
   "cell_type": "code",
   "execution_count": 2,
   "metadata": {
    "collapsed": false
   },
   "outputs": [],
   "source": [
    "a = conn.get_object(\"adams\", 'tweets1.txt')"
   ]
  },
  {
   "cell_type": "code",
   "execution_count": 3,
   "metadata": {
    "collapsed": false
   },
   "outputs": [
    {
     "name": "stdout",
     "output_type": "stream",
     "text": [
      "({'content-length': '15003', 'accept-ranges': 'bytes', 'last-modified': 'Sun, 25 Oct 2015 11:42:08 GMT', 'etag': '1c8e3d923e2c799fa21924a2b18a14d3', 'x-timestamp': '1445773328.00000', 'date': 'Sun, 25 Oct 2015 12:10:35 GMT', 'x-object-meta-orig-filename': 'tweets1.txt', 'content-type': 'binary/octet-stream'}, '{\"created_at\":\"Wed Aug 06 16:57:30 +0000 2014\",\"id\":497063930272178176,\"id_str\":\"497063930272178176\",\"text\":\"@StamCarl @meralkadir Hehe. Ettan \\\\u00e4r ju en serie d\\\\u00e4r den allsvenske veteranen ska tr\\\\u00e4na med en 17-\\\\u00e5ring som beh\\\\u00f6ver l\\\\u00e4ra sig grunderna.\",\"source\":\"\\\\u003ca href=\\\\\"http:\\\\/\\\\/twitter.com\\\\/download\\\\/android\\\\\" rel=\\\\\"nofollow\\\\\"\\\\u003eTwitter for Android\\\\u003c\\\\/a\\\\u003e\",\"truncated\":false,\"in_reply_to_status_id\":497063505754095617,\"in_reply_to_status_id_str\":\"497063505754095617\",\"in_reply_to_user_id\":316047110,\"in_reply_to_user_id_str\":\"316047110\",\"in_reply_to_screen_name\":\"StamCarl\",\"user\":{\"id\":262373413,\"id_str\":\"262373413\",\"name\":\"Andreas B\",\"screen_name\":\"andreasopinion\",\"location\":\"Stockholm-Uppsala-Borl\\\\u00e4nge. \",\"url\":null,\"description\":\"Orsak - verkan. Att det ska vara s\\\\u00e5 sv\\\\u00e5rt att f\\\\u00f6rst\\\\u00e5. Jag jobbar med fotboll, du l\\\\u00e4ser min twitter, s\\\\u00e5 vem har roligast?\",\"protected\":false,\"verified\":false,\"followers_count\":490,\"friends_count\":374,\"listed_count\":6,\"favourites_count\":54,\"statuses_count\":20759,\"created_at\":\"Mon Mar 07 22:53:40 +0000 2011\",\"utc_offset\":7200,\"time_zone\":\"Stockholm\",\"geo_enabled\":false,\"lang\":\"en\",\"contributors_enabled\":false,\"is_translator\":false,\"profile_background_color\":\"131516\",\"profile_background_image_url\":\"http:\\\\/\\\\/pbs.twimg.com\\\\/profile_background_images\\\\/442099394695806978\\\\/w2cP1hLL.jpeg\",\"profile_background_image_url_https\":\"https:\\\\/\\\\/pbs.twimg.com\\\\/profile_background_images\\\\/442099394695806978\\\\/w2cP1hLL.jpeg\",\"profile_background_tile\":true,\"profile_link_color\":\"009999\",\"profile_sidebar_border_color\":\"FFFFFF\",\"profile_sidebar_fill_color\":\"EFEFEF\",\"profile_text_color\":\"333333\",\"profile_use_background_image\":true,\"profile_image_url\":\"http:\\\\/\\\\/pbs.twimg.com\\\\/profile_images\\\\/483660356435603456\\\\/bNApYN9a_normal.jpeg\",\"profile_image_url_https\":\"https:\\\\/\\\\/pbs.twimg.com\\\\/profile_images\\\\/483660356435603456\\\\/bNApYN9a_normal.jpeg\",\"profile_banner_url\":\"https:\\\\/\\\\/pbs.twimg.com\\\\/profile_banners\\\\/262373413\\\\/1397250714\",\"default_profile\":false,\"default_profile_image\":false,\"following\":null,\"follow_request_sent\":null,\"notifications\":null},\"geo\":null,\"coordinates\":null,\"place\":null,\"contributors\":null,\"retweet_count\":0,\"favorite_count\":0,\"entities\":{\"hashtags\":[],\"trends\":[],\"urls\":[],\"user_mentions\":[{\"screen_name\":\"StamCarl\",\"name\":\"Carl Stam\",\"id\":316047110,\"id_str\":\"316047110\",\"indices\":[0,9]},{\"screen_name\":\"meralkadir\",\"name\":\"Kadir Meral\",\"id\":356071420,\"id_str\":\"356071420\",\"indices\":[10,21]}],\"symbols\":[]},\"favorited\":false,\"retweeted\":false,\"possibly_sensitive\":false,\"filter_level\":\"medium\",\"lang\":\"sv\"}\\r\\n\\n{\"created_at\":\"Wed Aug 06 16:57:31 +0000 2014\",\"id\":497063933552115713,\"id_str\":\"497063933552115713\",\"text\":\"... Jo pappa: \\\\\"nej hon \\\\u00e4r s\\\\u00e5 torr, s\\\\u00e5 hon smular inte\\\\\"\",\"source\":\"\\\\u003ca href=\\\\\"http:\\\\/\\\\/twitter.com\\\\/download\\\\/iphone\\\\\" rel=\\\\\"nofollow\\\\\"\\\\u003eTwitter for iPhone\\\\u003c\\\\/a\\\\u003e\",\"truncated\":false,\"in_reply_to_status_id\":null,\"in_reply_to_status_id_str\":null,\"in_reply_to_user_id\":null,\"in_reply_to_user_id_str\":null,\"in_reply_to_screen_name\":null,\"user\":{\"id\":850627999,\"id_str\":\"850627999\",\"name\":\"Hanna Gustavsson\",\"screen_name\":\"hannagurra\",\"location\":\"\",\"url\":null,\"description\":\"H\\\\u00e4nger du h\\\\u00e4r ofta eller?\",\"protected\":false,\"verified\":false,\"followers_count\":139,\"friends_count\":148,\"listed_count\":0,\"favourites_count\":561,\"statuses_count\":785,\"created_at\":\"Fri Sep 28 07:16:36 +0000 2012\",\"utc_offset\":null,\"time_zone\":null,\"geo_enabled\":false,\"lang\":\"sv\",\"contributors_enabled\":false,\"is_translator\":false,\"profile_background_color\":\"C0DEED\",\"profile_background_image_url\":\"http:\\\\/\\\\/abs.twimg.com\\\\/images\\\\/themes\\\\/theme1\\\\/bg.png\",\"profile_background_image_url_https\":\"https:\\\\/\\\\/abs.twimg.com\\\\/images\\\\/themes\\\\/theme1\\\\/bg.png\",\"profile_background_tile\":false,\"profile_link_color\":\"0084B4\",\"profile_sidebar_border_color\":\"C0DEED\",\"profile_sidebar_fill_color\":\"DDEEF6\",\"profile_text_color\":\"333333\",\"profile_use_background_image\":true,\"profile_image_url\":\"http:\\\\/\\\\/pbs.twimg.com\\\\/profile_images\\\\/482983806392356865\\\\/-c8ulsQA_normal.jpeg\",\"profile_image_url_https\":\"https:\\\\/\\\\/pbs.twimg.com\\\\/profile_images\\\\/482983806392356865\\\\/-c8ulsQA_normal.jpeg\",\"profile_banner_url\":\"https:\\\\/\\\\/pbs.twimg.com\\\\/profile_banners\\\\/850627999\\\\/1403877329\",\"default_profile\":true,\"default_profile_image\":false,\"following\":null,\"follow_request_sent\":null,\"notifications\":null},\"geo\":null,\"coordinates\":null,\"place\":null,\"contributors\":null,\"retweet_count\":0,\"favorite_count\":0,\"entities\":{\"hashtags\":[],\"trends\":[],\"urls\":[],\"user_mentions\":[],\"symbols\":[]},\"favorited\":false,\"retweeted\":false,\"possibly_sensitive\":false,\"filter_level\":\"medium\",\"lang\":\"sv\"}\\r\\n\\n{\"created_at\":\"Wed Aug 06 16:57:32 +0000 2014\",\"id\":497063937553092608,\"id_str\":\"497063937553092608\",\"text\":\"@jacobmollstam @sivle_ @Makkeberg @ottobergman @tim_sweden @LTLinder P\\\\u00e5 vad??? \\\\ud83d\\\\ude04 att han inte f\\\\u00f6ljde n\\\\u00e5got av v\\\\u00e5ra fina stylingtips?\",\"source\":\"\\\\u003ca href=\\\\\"http:\\\\/\\\\/twitter.com\\\\/download\\\\/iphone\\\\\" rel=\\\\\"nofollow\\\\\"\\\\u003eTwitter for iPhone\\\\u003c\\\\/a\\\\u003e\",\"truncated\":false,\"in_reply_to_status_id\":497032023996137472,\"in_reply_to_status_id_str\":\"497032023996137472\",\"in_reply_to_user_id\":38403775,\"in_reply_to_user_id_str\":\"38403775\",\"in_reply_to_screen_name\":\"jacobmollstam\",\"user\":{\"id\":400884345,\"id_str\":\"400884345\",\"name\":\"Marie Karlsson\",\"screen_name\":\"Smultron78\",\"location\":\"\",\"url\":null,\"description\":\"IKT-intresserad l\\\\u00e4rare Engelbrektskolan, Bor\\\\u00e5s. Gillar l\\\\u00f6pning & engelska tv-serier. Silver i Webbstj\\\\u00e4rnan 2014 m bloggen http:\\\\/\\\\/www.sallysaventyr.wordpress.com\",\"protected\":false,\"verified\":false,\"followers_count\":469,\"friends_count\":489,\"listed_count\":12,\"favourites_count\":960,\"statuses_count\":8185,\"created_at\":\"Sat Oct 29 18:30:57 +0000 2011\",\"utc_offset\":null,\"time_zone\":null,\"geo_enabled\":true,\"lang\":\"en\",\"contributors_enabled\":false,\"is_translator\":false,\"profile_background_color\":\"ACDED6\",\"profile_background_image_url\":\"http:\\\\/\\\\/abs.twimg.com\\\\/images\\\\/themes\\\\/theme18\\\\/bg.gif\",\"profile_background_image_url_https\":\"https:\\\\/\\\\/abs.twimg.com\\\\/images\\\\/themes\\\\/theme18\\\\/bg.gif\",\"profile_background_tile\":false,\"profile_link_color\":\"038543\",\"profile_sidebar_border_color\":\"EEEEEE\",\"profile_sidebar_fill_color\":\"F6F6F6\",\"profile_text_color\":\"333333\",\"profile_use_background_image\":true,\"profile_image_url\":\"http:\\\\/\\\\/pbs.twimg.com\\\\/profile_images\\\\/488315241164718080\\\\/4IU4D9ad_normal.jpeg\",\"profile_image_url_https\":\"https:\\\\/\\\\/pbs.twimg.com\\\\/profile_images\\\\/488315241164718080\\\\/4IU4D9ad_normal.jpeg\",\"profile_banner_url\":\"https:\\\\/\\\\/pbs.twimg.com\\\\/profile_banners\\\\/400884345\\\\/1404041701\",\"default_profile\":false,\"default_profile_image\":false,\"following\":null,\"follow_request_sent\":null,\"notifications\":null},\"geo\":null,\"coordinates\":null,\"place\":null,\"contributors\":null,\"retweet_count\":0,\"favorite_count\":0,\"entities\":{\"hashtags\":[],\"trends\":[],\"urls\":[],\"user_mentions\":[{\"screen_name\":\"jacobmollstam\",\"name\":\"Jacob M\\\\u00f6llstam\",\"id\":38403775,\"id_str\":\"38403775\",\"indices\":[0,14]},{\"screen_name\":\"sivle_\",\"name\":\"Jennie\",\"id\":240695183,\"id_str\":\"240695183\",\"indices\":[15,22]},{\"screen_name\":\"Makkeberg\",\"name\":\"Markus Bergenord\",\"id\":276075311,\"id_str\":\"276075311\",\"indices\":[23,33]},{\"screen_name\":\"ottobergman\",\"name\":\"Otto Bergman\",\"id\":520739940,\"id_str\":\"520739940\",\"indices\":[34,46]},{\"screen_name\":\"tim_sweden\",\"name\":\"Tim Mighall\",\"id\":26987738,\"id_str\":\"26987738\",\"indices\":[47,58]},{\"screen_name\":\"LTLinder\",\"name\":\"Linda Linder\",\"id\":288858538,\"id_str\":\"288858538\",\"indices\":[59,68]}],\"symbols\":[]},\"favorited\":false,\"retweeted\":false,\"possibly_sensitive\":false,\"filter_level\":\"medium\",\"lang\":\"sv\"}\\r\\n\\n{\"created_at\":\"Wed Aug 06 16:57:35 +0000 2014\",\"id\":497063951293636608,\"id_str\":\"497063951293636608\",\"text\":\"#DN Just nu: F\\\\u00f6lj Malm\\\\u00f6\\\\u2013Sparta Prag i CL-kvalet: Malm\\\\u00f6 FF tar emot Sparta Prag i den andra matc... http:\\\\/\\\\/t.co\\\\/oTAy5xVc7k #spr\\\\u00e5kpunkten\",\"source\":\"\\\\u003ca href=\\\\\"http:\\\\/\\\\/twitterfeed.com\\\\\" rel=\\\\\"nofollow\\\\\"\\\\u003etwitterfeed\\\\u003c\\\\/a\\\\u003e\",\"truncated\":false,\"in_reply_to_status_id\":null,\"in_reply_to_status_id_str\":null,\"in_reply_to_user_id\":null,\"in_reply_to_user_id_str\":null,\"in_reply_to_screen_name\":null,\"user\":{\"id\":266043713,\"id_str\":\"266043713\",\"name\":\"Spr\\\\u00e5kpunkten\",\"screen_name\":\"sprakpunkten\",\"location\":\"Sverige\",\"url\":null,\"description\":\"sprakpunkten@cipr.es\",\"protected\":false,\"verified\":false,\"followers_count\":659,\"friends_count\":918,\"listed_count\":9,\"favourites_count\":0,\"statuses_count\":229258,\"created_at\":\"Mon Mar 14 15:09:30 +0000 2011\",\"utc_offset\":7200,\"time_zone\":\"Stockholm\",\"geo_enabled\":true,\"lang\":\"en\",\"contributors_enabled\":false,\"is_translator\":false,\"profile_background_color\":\"F5BF2B\",\"profile_background_image_url\":\"http:\\\\/\\\\/pbs.twimg.com\\\\/profile_background_images\\\\/684324754\\\\/2b08a6be4d06180a72fab96b03e5517d.png\",\"profile_background_image_url_https\":\"https:\\\\/\\\\/pbs.twimg.com\\\\/profile_background_images\\\\/684324754\\\\/2b08a6be4d06180a72fab96b03e5517d.png\",\"profile_background_tile\":true,\"profile_link_color\":\"B62705\",\"profile_sidebar_border_color\":\"1EEFE9\",\"profile_sidebar_fill_color\":\"034F5C\",\"profile_text_color\":\"FBFAF5\",\"profile_use_background_image\":true,\"profile_image_url\":\"http:\\\\/\\\\/pbs.twimg.com\\\\/profile_images\\\\/1628874981\\\\/iStock_Spanien_Stierkampf_normal.jpg\",\"profile_image_url_https\":\"https:\\\\/\\\\/pbs.twimg.com\\\\/profile_images\\\\/1628874981\\\\/iStock_Spanien_Stierkampf_normal.jpg\",\"default_profile\":false,\"default_profile_image\":false,\"following\":null,\"follow_request_sent\":null,\"notifications\":null},\"geo\":null,\"coordinates\":null,\"place\":null,\"contributors\":null,\"retweet_count\":0,\"favorite_count\":0,\"entities\":{\"hashtags\":[{\"text\":\"DN\",\"indices\":[0,3]},{\"text\":\"spr\\\\u00e5kpunkten\",\"indices\":[122,135]}],\"trends\":[],\"urls\":[{\"url\":\"http:\\\\/\\\\/t.co\\\\/oTAy5xVc7k\",\"expanded_url\":\"http:\\\\/\\\\/p.cipr.es\\\\/INi\",\"display_url\":\"p.cipr.es\\\\/INi\",\"indices\":[99,121]}],\"user_mentions\":[],\"symbols\":[]},\"favorited\":false,\"retweeted\":false,\"possibly_sensitive\":false,\"filter_level\":\"medium\",\"lang\":\"sv\"}\\r\\n\\n{\"created_at\":\"Wed Aug 06 16:57:38 +0000 2014\",\"id\":497063961326403586,\"id_str\":\"497063961326403586\",\"text\":\"Idag exakt p\\\\u00e5 dagen 1988 startade ett tv program som \\\\u00e4ndrade mitt liv o f\\\\u00f6r den delen hela v\\\\u00e4rlden\\\\u2026 http:\\\\/\\\\/t.co\\\\/GViOj9KmPH\",\"source\":\"\\\\u003ca href=\\\\\"http:\\\\/\\\\/instagram.com\\\\\" rel=\\\\\"nofollow\\\\\"\\\\u003eInstagram\\\\u003c\\\\/a\\\\u003e\",\"truncated\":false,\"in_reply_to_status_id\":null,\"in_reply_to_status_id_str\":null,\"in_reply_to_user_id\":null,\"in_reply_to_user_id_str\":null,\"in_reply_to_screen_name\":null,\"user\":{\"id\":938830568,\"id_str\":\"938830568\",\"name\":\"Daniel R\\\\u00f6rstr\\\\u00f6m\",\"screen_name\":\"DR_ead\",\"location\":\"\",\"url\":null,\"description\":\"Choreographer \\\\/ Dancer \\\\/ International Instructor \\\\/ http:\\\\/\\\\/www.soundcloud.com\\\\/dr_ead\",\"protected\":false,\"verified\":false,\"followers_count\":54,\"friends_count\":224,\"listed_count\":0,\"favourites_count\":46,\"statuses_count\":666,\"created_at\":\"Sat Nov 10 11:10:03 +0000 2012\",\"utc_offset\":null,\"time_zone\":null,\"geo_enabled\":true,\"lang\":\"sv\",\"contributors_enabled\":false,\"is_translator\":false,\"profile_background_color\":\"C0DEED\",\"profile_background_image_url\":\"http:\\\\/\\\\/abs.twimg.com\\\\/images\\\\/themes\\\\/theme1\\\\/bg.png\",\"profile_background_image_url_https\":\"https:\\\\/\\\\/abs.twimg.com\\\\/images\\\\/themes\\\\/theme1\\\\/bg.png\",\"profile_background_tile\":false,\"profile_link_color\":\"0084B4\",\"profile_sidebar_border_color\":\"C0DEED\",\"profile_sidebar_fill_color\":\"DDEEF6\",\"profile_text_color\":\"333333\",\"profile_use_background_image\":true,\"profile_image_url\":\"http:\\\\/\\\\/pbs.twimg.com\\\\/profile_images\\\\/3758087880\\\\/0b722e3e4f68860b7e1cfd1b9e061d57_normal.jpeg\",\"profile_image_url_https\":\"https:\\\\/\\\\/pbs.twimg.com\\\\/profile_images\\\\/3758087880\\\\/0b722e3e4f68860b7e1cfd1b9e061d57_normal.jpeg\",\"profile_banner_url\":\"https:\\\\/\\\\/pbs.twimg.com\\\\/profile_banners\\\\/938830568\\\\/1370425137\",\"default_profile\":true,\"default_profile_image\":false,\"following\":null,\"follow_request_sent\":null,\"notifications\":null},\"geo\":null,\"coordinates\":null,\"place\":null,\"contributors\":null,\"retweet_count\":0,\"favorite_count\":0,\"entities\":{\"hashtags\":[],\"trends\":[],\"urls\":[{\"url\":\"http:\\\\/\\\\/t.co\\\\/GViOj9KmPH\",\"expanded_url\":\"http:\\\\/\\\\/instagram.com\\\\/p\\\\/rXUYkFPtTc\\\\/\",\"display_url\":\"instagram.com\\\\/p\\\\/rXUYkFPtTc\\\\/\",\"indices\":[100,122]}],\"user_mentions\":[],\"symbols\":[]},\"favorited\":false,\"retweeted\":false,\"possibly_sensitive\":false,\"filter_level\":\"medium\",\"lang\":\"sv\"}\\r\\n\\n{\"created_at\":\"Wed Aug 06 16:57:38 +0000 2014\",\"id\":497063963264557056,\"id_str\":\"497063963264557056\",\"text\":\"@NinaLarsson5 @DESAIHA_Warcus Lr s\\\\u00e5 dieter han Nina, kommer du ih\\\\u00e5g att han ber\\\\u00e4ttade att han g\\\\u00e5tt upp 10 kg sedan han b\\\\u00f6rjade spela med Y?!\",\"source\":\"\\\\u003ca href=\\\\\"http:\\\\/\\\\/twitter.com\\\\/download\\\\/iphone\\\\\" rel=\\\\\"nofollow\\\\\"\\\\u003eTwitter for iPhone\\\\u003c\\\\/a\\\\u003e\",\"truncated\":false,\"in_reply_to_status_id\":497062002192547840,\"in_reply_to_status_id_str\":\"497062002192547840\",\"in_reply_to_user_id\":1332291164,\"in_reply_to_user_id_str\":\"1332291164\",\"in_reply_to_screen_name\":\"NinaLarsson5\",\"user\":{\"id\":442212253,\"id_str\":\"442212253\",\"name\":\"Miss Lind\",\"screen_name\":\"CarinLind\",\"location\":\"Lives in Gothenburg - Sweden\",\"url\":null,\"description\":\"Music Lover - IT-Professional - BusinessIntelligence Student to be graduate in March 2014 - That\\'s me in a nutshell!!!\",\"protected\":false,\"verified\":false,\"followers_count\":110,\"friends_count\":83,\"listed_count\":3,\"favourites_count\":10805,\"statuses_count\":6114,\"created_at\":\"Tue Dec 20 21:42:14 +0000 2011\",\"utc_offset\":7200,\"time_zone\":\"Stockholm\",\"geo_enabled\":true,\"lang\":\"sv\",\"contributors_enabled\":false,\"is_translator\":false,\"profile_background_color\":\"ACDED6\",\"profile_background_image_url\":\"http:\\\\/\\\\/abs.twimg.com\\\\/images\\\\/themes\\\\/theme18\\\\/bg.gif\",\"profile_background_image_url_https\":\"https:\\\\/\\\\/abs.twimg.com\\\\/images\\\\/themes\\\\/theme18\\\\/bg.gif\",\"profile_background_tile\":false,\"profile_link_color\":\"038543\",\"profile_sidebar_border_color\":\"EEEEEE\",\"profile_sidebar_fill_color\":\"F6F6F6\",\"profile_text_color\":\"333333\",\"profile_use_background_image\":true,\"profile_image_url\":\"http:\\\\/\\\\/pbs.twimg.com\\\\/profile_images\\\\/418755875868639232\\\\/I-JnVJP0_normal.jpeg\",\"profile_image_url_https\":\"https:\\\\/\\\\/pbs.twimg.com\\\\/profile_images\\\\/418755875868639232\\\\/I-JnVJP0_normal.jpeg\",\"profile_banner_url\":\"https:\\\\/\\\\/pbs.twimg.com\\\\/profile_banners\\\\/442212253\\\\/1406114571\",\"default_profile\":false,\"default_profile_image\":false,\"following\":null,\"follow_request_sent\":null,\"notifications\":null},\"geo\":null,\"coordinates\":null,\"place\":null,\"contributors\":null,\"retweet_count\":0,\"favorite_count\":0,\"entities\":{\"hashtags\":[],\"trends\":[],\"urls\":[],\"user_mentions\":[{\"screen_name\":\"NinaLarsson5\",\"name\":\"Nina Larsson\",\"id\":1332291164,\"id_str\":\"1332291164\",\"indices\":[0,13]},{\"screen_name\":\"DESAIHA_Warcus\",\"name\":\"Warcus\",\"id\":44336059,\"id_str\":\"44336059\",\"indices\":[14,29]}],\"symbols\":[]},\"favorited\":false,\"retweeted\":false,\"possibly_sensitive\":false,\"filter_level\":\"medium\",\"lang\":\"sv\"}\\r\\n\\n')\n"
     ]
    }
   ],
   "source": [
    "print(a)"
   ]
  },
  {
   "cell_type": "code",
   "execution_count": 12,
   "metadata": {
    "collapsed": true
   },
   "outputs": [],
   "source": [
    "from celery import Celery\n",
    "import json\n",
    "from collections import Counter\n",
    "\n",
    "app = Celery('tasks', backend='rpc://', broker='amqp://')\n",
    "\n",
    "@app.task\n",
    "def getJson():\n",
    "    #with open(\"/home/hampus/skola/CloudComputing/FilesFromAssignments2015-09-15/C3/localSolution/tweets.txt\") as f:\n",
    "    content = a #f.readlines()\n",
    "    tmp = runme.delay(content)\n",
    "    return tmp\n",
    "\n",
    "\n",
    "# INPUT = list \n",
    "# Varje rad motsvarar en array. varannat.\n",
    "@app.task\n",
    "def runme(Jdata):\n",
    "    tmp = Counter()\n",
    "\n",
    "    for item in Jdata:\n",
    "        if(1<len(item)): # Removes Empty rows\n",
    "            tmp = tmp + manageRow.delay(item)            \n",
    "    return(tmp)\n",
    "\n",
    "@app.task\n",
    "def manageRow(item):\n",
    "    result = Counter()\n",
    "    data = json.loads(item)\n",
    "    if('retweeted_status' not in data.keys()): #Removes retweets\n",
    "        result  = Counter(data['text'].split())\n",
    "    return result\n",
    "\n",
    "#runme(getJson())\n"
   ]
  },
  {
   "cell_type": "code",
   "execution_count": 13,
   "metadata": {
    "collapsed": false
   },
   "outputs": [],
   "source": [
    "tmp = getJson.delay()"
   ]
  },
  {
   "cell_type": "code",
   "execution_count": 14,
   "metadata": {
    "collapsed": false
   },
   "outputs": [
    {
     "data": {
      "text/plain": [
       "False"
      ]
     },
     "execution_count": 14,
     "metadata": {},
     "output_type": "execute_result"
    }
   ],
   "source": [
    "tmp.ready()"
   ]
  },
  {
   "cell_type": "code",
   "execution_count": 15,
   "metadata": {
    "collapsed": false
   },
   "outputs": [
    {
     "ename": "KeyboardInterrupt",
     "evalue": "",
     "output_type": "error",
     "traceback": [
      "\u001b[1;31m---------------------------------------------------------------------------\u001b[0m",
      "\u001b[1;31mKeyboardInterrupt\u001b[0m                         Traceback (most recent call last)",
      "\u001b[1;32m<ipython-input-15-138aff6d3168>\u001b[0m in \u001b[0;36m<module>\u001b[1;34m()\u001b[0m\n\u001b[1;32m----> 1\u001b[1;33m \u001b[1;32mprint\u001b[0m\u001b[1;33m(\u001b[0m\u001b[0mtmp\u001b[0m\u001b[1;33m.\u001b[0m\u001b[0mget\u001b[0m\u001b[1;33m(\u001b[0m\u001b[1;33m)\u001b[0m\u001b[1;33m)\u001b[0m\u001b[1;33m\u001b[0m\u001b[0m\n\u001b[0m",
      "\u001b[1;32m/usr/local/lib/python2.7/dist-packages/celery/result.pyc\u001b[0m in \u001b[0;36mget\u001b[1;34m(self, timeout, propagate, interval, no_ack, follow_parents, EXCEPTION_STATES, PROPAGATE_STATES)\u001b[0m\n\u001b[0;32m    167\u001b[0m             \u001b[0minterval\u001b[0m\u001b[1;33m=\u001b[0m\u001b[0minterval\u001b[0m\u001b[1;33m,\u001b[0m\u001b[1;33m\u001b[0m\u001b[0m\n\u001b[0;32m    168\u001b[0m             \u001b[0mon_interval\u001b[0m\u001b[1;33m=\u001b[0m\u001b[0mon_interval\u001b[0m\u001b[1;33m,\u001b[0m\u001b[1;33m\u001b[0m\u001b[0m\n\u001b[1;32m--> 169\u001b[1;33m             \u001b[0mno_ack\u001b[0m\u001b[1;33m=\u001b[0m\u001b[0mno_ack\u001b[0m\u001b[1;33m,\u001b[0m\u001b[1;33m\u001b[0m\u001b[0m\n\u001b[0m\u001b[0;32m    170\u001b[0m         )\n\u001b[0;32m    171\u001b[0m         \u001b[1;32mif\u001b[0m \u001b[0mmeta\u001b[0m\u001b[1;33m:\u001b[0m\u001b[1;33m\u001b[0m\u001b[0m\n",
      "\u001b[1;32m/usr/local/lib/python2.7/dist-packages/celery/backends/amqp.pyc\u001b[0m in \u001b[0;36mwait_for\u001b[1;34m(self, task_id, timeout, cache, no_ack, on_interval, READY_STATES, PROPAGATE_STATES, **kwargs)\u001b[0m\n\u001b[0;32m    153\u001b[0m             \u001b[1;32mtry\u001b[0m\u001b[1;33m:\u001b[0m\u001b[1;33m\u001b[0m\u001b[0m\n\u001b[0;32m    154\u001b[0m                 return self.consume(task_id, timeout=timeout, no_ack=no_ack,\n\u001b[1;32m--> 155\u001b[1;33m                                     on_interval=on_interval)\n\u001b[0m\u001b[0;32m    156\u001b[0m             \u001b[1;32mexcept\u001b[0m \u001b[0msocket\u001b[0m\u001b[1;33m.\u001b[0m\u001b[0mtimeout\u001b[0m\u001b[1;33m:\u001b[0m\u001b[1;33m\u001b[0m\u001b[0m\n\u001b[0;32m    157\u001b[0m                 \u001b[1;32mraise\u001b[0m \u001b[0mTimeoutError\u001b[0m\u001b[1;33m(\u001b[0m\u001b[1;34m'The operation timed out.'\u001b[0m\u001b[1;33m)\u001b[0m\u001b[1;33m\u001b[0m\u001b[0m\n",
      "\u001b[1;32m/usr/local/lib/python2.7/dist-packages/celery/backends/amqp.pyc\u001b[0m in \u001b[0;36mconsume\u001b[1;34m(self, task_id, timeout, no_ack, on_interval)\u001b[0m\n\u001b[0;32m    229\u001b[0m                     \u001b[1;32mtry\u001b[0m\u001b[1;33m:\u001b[0m\u001b[1;33m\u001b[0m\u001b[0m\n\u001b[0;32m    230\u001b[0m                         return wait(\n\u001b[1;32m--> 231\u001b[1;33m                             conn, consumer, timeout, on_interval)[task_id]\n\u001b[0m\u001b[0;32m    232\u001b[0m                     \u001b[1;32mexcept\u001b[0m \u001b[0mKeyError\u001b[0m\u001b[1;33m:\u001b[0m\u001b[1;33m\u001b[0m\u001b[0m\n\u001b[0;32m    233\u001b[0m                         \u001b[1;32mcontinue\u001b[0m\u001b[1;33m\u001b[0m\u001b[0m\n",
      "\u001b[1;32m/usr/local/lib/python2.7/dist-packages/celery/backends/amqp.pyc\u001b[0m in \u001b[0;36mdrain_events\u001b[1;34m(self, connection, consumer, timeout, on_interval, now, wait)\u001b[0m\n\u001b[0;32m    210\u001b[0m                 \u001b[1;32mraise\u001b[0m \u001b[0msocket\u001b[0m\u001b[1;33m.\u001b[0m\u001b[0mtimeout\u001b[0m\u001b[1;33m(\u001b[0m\u001b[1;33m)\u001b[0m\u001b[1;33m\u001b[0m\u001b[0m\n\u001b[0;32m    211\u001b[0m             \u001b[1;32mtry\u001b[0m\u001b[1;33m:\u001b[0m\u001b[1;33m\u001b[0m\u001b[0m\n\u001b[1;32m--> 212\u001b[1;33m                 \u001b[0mwait\u001b[0m\u001b[1;33m(\u001b[0m\u001b[0mtimeout\u001b[0m\u001b[1;33m=\u001b[0m\u001b[1;36m1\u001b[0m\u001b[1;33m)\u001b[0m\u001b[1;33m\u001b[0m\u001b[0m\n\u001b[0m\u001b[0;32m    213\u001b[0m             \u001b[1;32mexcept\u001b[0m \u001b[0msocket\u001b[0m\u001b[1;33m.\u001b[0m\u001b[0mtimeout\u001b[0m\u001b[1;33m:\u001b[0m\u001b[1;33m\u001b[0m\u001b[0m\n\u001b[0;32m    214\u001b[0m                 \u001b[1;32mpass\u001b[0m\u001b[1;33m\u001b[0m\u001b[0m\n",
      "\u001b[1;32m/usr/local/lib/python2.7/dist-packages/kombu/connection.pyc\u001b[0m in \u001b[0;36mdrain_events\u001b[1;34m(self, **kwargs)\u001b[0m\n\u001b[0;32m    273\u001b[0m \u001b[1;33m\u001b[0m\u001b[0m\n\u001b[0;32m    274\u001b[0m         \"\"\"\n\u001b[1;32m--> 275\u001b[1;33m         \u001b[1;32mreturn\u001b[0m \u001b[0mself\u001b[0m\u001b[1;33m.\u001b[0m\u001b[0mtransport\u001b[0m\u001b[1;33m.\u001b[0m\u001b[0mdrain_events\u001b[0m\u001b[1;33m(\u001b[0m\u001b[0mself\u001b[0m\u001b[1;33m.\u001b[0m\u001b[0mconnection\u001b[0m\u001b[1;33m,\u001b[0m \u001b[1;33m**\u001b[0m\u001b[0mkwargs\u001b[0m\u001b[1;33m)\u001b[0m\u001b[1;33m\u001b[0m\u001b[0m\n\u001b[0m\u001b[0;32m    276\u001b[0m \u001b[1;33m\u001b[0m\u001b[0m\n\u001b[0;32m    277\u001b[0m     \u001b[1;32mdef\u001b[0m \u001b[0mmaybe_close_channel\u001b[0m\u001b[1;33m(\u001b[0m\u001b[0mself\u001b[0m\u001b[1;33m,\u001b[0m \u001b[0mchannel\u001b[0m\u001b[1;33m)\u001b[0m\u001b[1;33m:\u001b[0m\u001b[1;33m\u001b[0m\u001b[0m\n",
      "\u001b[1;32m/usr/local/lib/python2.7/dist-packages/kombu/transport/pyamqp.pyc\u001b[0m in \u001b[0;36mdrain_events\u001b[1;34m(self, connection, **kwargs)\u001b[0m\n\u001b[0;32m     93\u001b[0m \u001b[1;33m\u001b[0m\u001b[0m\n\u001b[0;32m     94\u001b[0m     \u001b[1;32mdef\u001b[0m \u001b[0mdrain_events\u001b[0m\u001b[1;33m(\u001b[0m\u001b[0mself\u001b[0m\u001b[1;33m,\u001b[0m \u001b[0mconnection\u001b[0m\u001b[1;33m,\u001b[0m \u001b[1;33m**\u001b[0m\u001b[0mkwargs\u001b[0m\u001b[1;33m)\u001b[0m\u001b[1;33m:\u001b[0m\u001b[1;33m\u001b[0m\u001b[0m\n\u001b[1;32m---> 95\u001b[1;33m         \u001b[1;32mreturn\u001b[0m \u001b[0mconnection\u001b[0m\u001b[1;33m.\u001b[0m\u001b[0mdrain_events\u001b[0m\u001b[1;33m(\u001b[0m\u001b[1;33m**\u001b[0m\u001b[0mkwargs\u001b[0m\u001b[1;33m)\u001b[0m\u001b[1;33m\u001b[0m\u001b[0m\n\u001b[0m\u001b[0;32m     96\u001b[0m \u001b[1;33m\u001b[0m\u001b[0m\n\u001b[0;32m     97\u001b[0m     \u001b[1;32mdef\u001b[0m \u001b[0mestablish_connection\u001b[0m\u001b[1;33m(\u001b[0m\u001b[0mself\u001b[0m\u001b[1;33m)\u001b[0m\u001b[1;33m:\u001b[0m\u001b[1;33m\u001b[0m\u001b[0m\n",
      "\u001b[1;32m/usr/local/lib/python2.7/dist-packages/amqp/connection.pyc\u001b[0m in \u001b[0;36mdrain_events\u001b[1;34m(self, timeout)\u001b[0m\n\u001b[0;32m    300\u001b[0m         \u001b[0mchanmap\u001b[0m \u001b[1;33m=\u001b[0m \u001b[0mself\u001b[0m\u001b[1;33m.\u001b[0m\u001b[0mchannels\u001b[0m\u001b[1;33m\u001b[0m\u001b[0m\n\u001b[0;32m    301\u001b[0m         chanid, method_sig, args, content = self._wait_multiple(\n\u001b[1;32m--> 302\u001b[1;33m             \u001b[0mchanmap\u001b[0m\u001b[1;33m,\u001b[0m \u001b[0mNone\u001b[0m\u001b[1;33m,\u001b[0m \u001b[0mtimeout\u001b[0m\u001b[1;33m=\u001b[0m\u001b[0mtimeout\u001b[0m\u001b[1;33m,\u001b[0m\u001b[1;33m\u001b[0m\u001b[0m\n\u001b[0m\u001b[0;32m    303\u001b[0m         )\n\u001b[0;32m    304\u001b[0m \u001b[1;33m\u001b[0m\u001b[0m\n",
      "\u001b[1;32m/usr/local/lib/python2.7/dist-packages/amqp/connection.pyc\u001b[0m in \u001b[0;36m_wait_multiple\u001b[1;34m(self, channels, allowed_methods, timeout)\u001b[0m\n\u001b[0;32m    363\u001b[0m         \u001b[0mwait\u001b[0m \u001b[1;33m=\u001b[0m \u001b[0mself\u001b[0m\u001b[1;33m.\u001b[0m\u001b[0mwait\u001b[0m\u001b[1;33m\u001b[0m\u001b[0m\n\u001b[0;32m    364\u001b[0m         \u001b[1;32mwhile\u001b[0m \u001b[1;36m1\u001b[0m\u001b[1;33m:\u001b[0m\u001b[1;33m\u001b[0m\u001b[0m\n\u001b[1;32m--> 365\u001b[1;33m             \u001b[0mchannel\u001b[0m\u001b[1;33m,\u001b[0m \u001b[0mmethod_sig\u001b[0m\u001b[1;33m,\u001b[0m \u001b[0margs\u001b[0m\u001b[1;33m,\u001b[0m \u001b[0mcontent\u001b[0m \u001b[1;33m=\u001b[0m \u001b[0mread_timeout\u001b[0m\u001b[1;33m(\u001b[0m\u001b[0mtimeout\u001b[0m\u001b[1;33m)\u001b[0m\u001b[1;33m\u001b[0m\u001b[0m\n\u001b[0m\u001b[0;32m    366\u001b[0m \u001b[1;33m\u001b[0m\u001b[0m\n\u001b[0;32m    367\u001b[0m             if channel in channels and (\n",
      "\u001b[1;32m/usr/local/lib/python2.7/dist-packages/amqp/connection.pyc\u001b[0m in \u001b[0;36mread_timeout\u001b[1;34m(self, timeout)\u001b[0m\n\u001b[0;32m    334\u001b[0m         \u001b[1;32mtry\u001b[0m\u001b[1;33m:\u001b[0m\u001b[1;33m\u001b[0m\u001b[0m\n\u001b[0;32m    335\u001b[0m             \u001b[1;32mtry\u001b[0m\u001b[1;33m:\u001b[0m\u001b[1;33m\u001b[0m\u001b[0m\n\u001b[1;32m--> 336\u001b[1;33m                 \u001b[1;32mreturn\u001b[0m \u001b[0mself\u001b[0m\u001b[1;33m.\u001b[0m\u001b[0mmethod_reader\u001b[0m\u001b[1;33m.\u001b[0m\u001b[0mread_method\u001b[0m\u001b[1;33m(\u001b[0m\u001b[1;33m)\u001b[0m\u001b[1;33m\u001b[0m\u001b[0m\n\u001b[0m\u001b[0;32m    337\u001b[0m             \u001b[1;32mexcept\u001b[0m \u001b[0mSSLError\u001b[0m \u001b[1;32mas\u001b[0m \u001b[0mexc\u001b[0m\u001b[1;33m:\u001b[0m\u001b[1;33m\u001b[0m\u001b[0m\n\u001b[0;32m    338\u001b[0m                 \u001b[1;31m# http://bugs.python.org/issue10272\u001b[0m\u001b[1;33m\u001b[0m\u001b[1;33m\u001b[0m\u001b[0m\n",
      "\u001b[1;32m/usr/local/lib/python2.7/dist-packages/amqp/method_framing.pyc\u001b[0m in \u001b[0;36mread_method\u001b[1;34m(self)\u001b[0m\n\u001b[0;32m    184\u001b[0m     \u001b[1;32mdef\u001b[0m \u001b[0mread_method\u001b[0m\u001b[1;33m(\u001b[0m\u001b[0mself\u001b[0m\u001b[1;33m)\u001b[0m\u001b[1;33m:\u001b[0m\u001b[1;33m\u001b[0m\u001b[0m\n\u001b[0;32m    185\u001b[0m         \u001b[1;34m\"\"\"Read a method from the peer.\"\"\"\u001b[0m\u001b[1;33m\u001b[0m\u001b[0m\n\u001b[1;32m--> 186\u001b[1;33m         \u001b[0mself\u001b[0m\u001b[1;33m.\u001b[0m\u001b[0m_next_method\u001b[0m\u001b[1;33m(\u001b[0m\u001b[1;33m)\u001b[0m\u001b[1;33m\u001b[0m\u001b[0m\n\u001b[0m\u001b[0;32m    187\u001b[0m         \u001b[0mm\u001b[0m \u001b[1;33m=\u001b[0m \u001b[0mself\u001b[0m\u001b[1;33m.\u001b[0m\u001b[0m_quick_get\u001b[0m\u001b[1;33m(\u001b[0m\u001b[1;33m)\u001b[0m\u001b[1;33m\u001b[0m\u001b[0m\n\u001b[0;32m    188\u001b[0m         \u001b[1;32mif\u001b[0m \u001b[0misinstance\u001b[0m\u001b[1;33m(\u001b[0m\u001b[0mm\u001b[0m\u001b[1;33m,\u001b[0m \u001b[0mException\u001b[0m\u001b[1;33m)\u001b[0m\u001b[1;33m:\u001b[0m\u001b[1;33m\u001b[0m\u001b[0m\n",
      "\u001b[1;32m/usr/local/lib/python2.7/dist-packages/amqp/method_framing.pyc\u001b[0m in \u001b[0;36m_next_method\u001b[1;34m(self)\u001b[0m\n\u001b[0;32m    105\u001b[0m         \u001b[1;32mwhile\u001b[0m \u001b[1;32mnot\u001b[0m \u001b[0mqueue\u001b[0m\u001b[1;33m:\u001b[0m\u001b[1;33m\u001b[0m\u001b[0m\n\u001b[0;32m    106\u001b[0m             \u001b[1;32mtry\u001b[0m\u001b[1;33m:\u001b[0m\u001b[1;33m\u001b[0m\u001b[0m\n\u001b[1;32m--> 107\u001b[1;33m                 \u001b[0mframe_type\u001b[0m\u001b[1;33m,\u001b[0m \u001b[0mchannel\u001b[0m\u001b[1;33m,\u001b[0m \u001b[0mpayload\u001b[0m \u001b[1;33m=\u001b[0m \u001b[0mread_frame\u001b[0m\u001b[1;33m(\u001b[0m\u001b[1;33m)\u001b[0m\u001b[1;33m\u001b[0m\u001b[0m\n\u001b[0m\u001b[0;32m    108\u001b[0m             \u001b[1;32mexcept\u001b[0m \u001b[0mException\u001b[0m \u001b[1;32mas\u001b[0m \u001b[0mexc\u001b[0m\u001b[1;33m:\u001b[0m\u001b[1;33m\u001b[0m\u001b[0m\n\u001b[0;32m    109\u001b[0m                 \u001b[1;31m#\u001b[0m\u001b[1;33m\u001b[0m\u001b[1;33m\u001b[0m\u001b[0m\n",
      "\u001b[1;32m/usr/local/lib/python2.7/dist-packages/amqp/transport.pyc\u001b[0m in \u001b[0;36mread_frame\u001b[1;34m(self, unpack)\u001b[0m\n\u001b[0;32m    152\u001b[0m         \u001b[0mread_frame_buffer\u001b[0m \u001b[1;33m=\u001b[0m \u001b[0mEMPTY_BUFFER\u001b[0m\u001b[1;33m\u001b[0m\u001b[0m\n\u001b[0;32m    153\u001b[0m         \u001b[1;32mtry\u001b[0m\u001b[1;33m:\u001b[0m\u001b[1;33m\u001b[0m\u001b[0m\n\u001b[1;32m--> 154\u001b[1;33m             \u001b[0mframe_header\u001b[0m \u001b[1;33m=\u001b[0m \u001b[0mread\u001b[0m\u001b[1;33m(\u001b[0m\u001b[1;36m7\u001b[0m\u001b[1;33m,\u001b[0m \u001b[0mTrue\u001b[0m\u001b[1;33m)\u001b[0m\u001b[1;33m\u001b[0m\u001b[0m\n\u001b[0m\u001b[0;32m    155\u001b[0m             \u001b[0mread_frame_buffer\u001b[0m \u001b[1;33m+=\u001b[0m \u001b[0mframe_header\u001b[0m\u001b[1;33m\u001b[0m\u001b[0m\n\u001b[0;32m    156\u001b[0m             \u001b[0mframe_type\u001b[0m\u001b[1;33m,\u001b[0m \u001b[0mchannel\u001b[0m\u001b[1;33m,\u001b[0m \u001b[0msize\u001b[0m \u001b[1;33m=\u001b[0m \u001b[0munpack\u001b[0m\u001b[1;33m(\u001b[0m\u001b[1;34m'>BHI'\u001b[0m\u001b[1;33m,\u001b[0m \u001b[0mframe_header\u001b[0m\u001b[1;33m)\u001b[0m\u001b[1;33m\u001b[0m\u001b[0m\n",
      "\u001b[1;32m/usr/local/lib/python2.7/dist-packages/amqp/transport.pyc\u001b[0m in \u001b[0;36m_read\u001b[1;34m(self, n, initial, _errnos)\u001b[0m\n\u001b[0;32m    275\u001b[0m             \u001b[1;32mwhile\u001b[0m \u001b[0mlen\u001b[0m\u001b[1;33m(\u001b[0m\u001b[0mrbuf\u001b[0m\u001b[1;33m)\u001b[0m \u001b[1;33m<\u001b[0m \u001b[0mn\u001b[0m\u001b[1;33m:\u001b[0m\u001b[1;33m\u001b[0m\u001b[0m\n\u001b[0;32m    276\u001b[0m                 \u001b[1;32mtry\u001b[0m\u001b[1;33m:\u001b[0m\u001b[1;33m\u001b[0m\u001b[0m\n\u001b[1;32m--> 277\u001b[1;33m                     \u001b[0ms\u001b[0m \u001b[1;33m=\u001b[0m \u001b[0mrecv\u001b[0m\u001b[1;33m(\u001b[0m\u001b[0mn\u001b[0m \u001b[1;33m-\u001b[0m \u001b[0mlen\u001b[0m\u001b[1;33m(\u001b[0m\u001b[0mrbuf\u001b[0m\u001b[1;33m)\u001b[0m\u001b[1;33m)\u001b[0m\u001b[1;33m\u001b[0m\u001b[0m\n\u001b[0m\u001b[0;32m    278\u001b[0m                 \u001b[1;32mexcept\u001b[0m \u001b[0msocket\u001b[0m\u001b[1;33m.\u001b[0m\u001b[0merror\u001b[0m \u001b[1;32mas\u001b[0m \u001b[0mexc\u001b[0m\u001b[1;33m:\u001b[0m\u001b[1;33m\u001b[0m\u001b[0m\n\u001b[0;32m    279\u001b[0m                     \u001b[1;32mif\u001b[0m \u001b[1;32mnot\u001b[0m \u001b[0minitial\u001b[0m \u001b[1;32mand\u001b[0m \u001b[0mexc\u001b[0m\u001b[1;33m.\u001b[0m\u001b[0merrno\u001b[0m \u001b[1;32min\u001b[0m \u001b[0m_errnos\u001b[0m\u001b[1;33m:\u001b[0m\u001b[1;33m\u001b[0m\u001b[0m\n",
      "\u001b[1;31mKeyboardInterrupt\u001b[0m: "
     ]
    }
   ],
   "source": [
    "print(tmp.get())"
   ]
  }
 ],
 "metadata": {
  "kernelspec": {
   "display_name": "Python 2",
   "language": "python",
   "name": "python2"
  },
  "language_info": {
   "codemirror_mode": {
    "name": "ipython",
    "version": 2
   },
   "file_extension": ".py",
   "mimetype": "text/x-python",
   "name": "python",
   "nbconvert_exporter": "python",
   "pygments_lexer": "ipython2",
   "version": "2.7.6"
  }
 },
 "nbformat": 4,
 "nbformat_minor": 0
}
