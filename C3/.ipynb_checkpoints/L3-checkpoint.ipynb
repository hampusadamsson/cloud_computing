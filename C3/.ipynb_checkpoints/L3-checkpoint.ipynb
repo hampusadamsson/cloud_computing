{
 "cells": [
  {
   "cell_type": "code",
   "execution_count": 16,
   "metadata": {
    "collapsed": false
   },
   "outputs": [
    {
     "name": "stdout",
     "output_type": "stream",
     "text": [
      "Ubuntu Server running at: 130.238.29.5\n"
     ]
    }
   ],
   "source": [
    "import os\n",
    "from sys import argv\n",
    "import time\n",
    "from novaclient.client import Client\n",
    "\n",
    "config = {'username':os.environ['OS_USERNAME'],\n",
    "          'api_key':os.environ['OS_PASSWORD'],\n",
    "          'project_id':os.environ['OS_TENANT_NAME'],\n",
    "          'auth_url':os.environ['OS_AUTH_URL']}\n",
    "\n",
    "nc = Client('2',**config)\n",
    "ubuntu = 'Ubuntu Server 14.04 LTS (Trusty Tahr)'\n",
    "image = nc.images.find(name=ubuntu)\n",
    "flavor = nc.flavors.find(name='m1.medium')\n",
    "network = nc.networks.find(label='ACC-Course-net')\n",
    "userdata = open('userdata-project.yml', 'r')\n",
    "name = \"haad3\"\n",
    "\n",
    "try:\n",
    "    server = nc.servers.create(name=name, image=image.id, flavor=flavor.id,\n",
    "                               network=network.id, key_name='haadkey',\n",
    "                               userdata=userdata, security_groups=None)\n",
    "finally:\n",
    "    userdata.close()\n",
    "\n",
    "floating_ips = nc.floating_ips.list()\n",
    "state = server.status\n",
    "\n",
    "while(state == 'BUILD'):\n",
    "    time.sleep(4)\n",
    "    server = nc.servers.get(server.id)\n",
    "    state = server.status\n",
    "\n",
    "for ip in floating_ips:\n",
    "    if ip.instance_id == None:\n",
    "        server.add_floating_ip(ip)\n",
    "        print 'Ubuntu Server running at: {}'.format(ip.ip)\n",
    "        break\n",
    "else:\n",
    "    print 'No available floating IPs in the pool'\n"
   ]
  },
  {
   "cell_type": "code",
   "execution_count": 7,
   "metadata": {
    "collapsed": false
   },
   "outputs": [
    {
     "name": "stdout",
     "output_type": "stream",
     "text": [
      "{u'bytes': 158242542, u'last_modified': u'2015-10-23T09:28:21.000Z', u'hash': u'ab28d5996aba778c1ad4b71cd2734690', u'name': u'tweets_0.txt'}\n",
      "{u'bytes': 573803563, u'last_modified': u'2015-09-21T12:10:19.000Z', u'hash': u'09a3d8b0c8a56b8e167f31f19f268a5e', u'name': u'tweets_1.txt'}\n",
      "{u'bytes': 567942321, u'last_modified': u'2015-09-21T12:10:27.000Z', u'hash': u'54b7c98b3c1c11274315e97bf021482b', u'name': u'tweets_10.txt'}\n",
      "{u'bytes': 574149312, u'last_modified': u'2015-09-21T12:09:19.000Z', u'hash': u'e7be511ba18e31e6258c05d5f09b20af', u'name': u'tweets_11.txt'}\n",
      "{u'bytes': 482936235, u'last_modified': u'2015-09-21T12:08:58.000Z', u'hash': u'167ef442eeef8367ae38f316a7976561', u'name': u'tweets_12.txt'}\n",
      "{u'bytes': 520588579, u'last_modified': u'2015-09-21T12:08:09.000Z', u'hash': u'027ead43ce292ec5c9574f67c0e0c335', u'name': u'tweets_13.txt'}\n",
      "{u'bytes': 460688235, u'last_modified': u'2015-09-21T12:08:19.000Z', u'hash': u'c4b1427726bd8463dd3ab5648b6a7118', u'name': u'tweets_14.txt'}\n",
      "{u'bytes': 420381405, u'last_modified': u'2015-09-21T12:09:10.000Z', u'hash': u'f223b572ae4b350e5c9586da77f4d9a3', u'name': u'tweets_15.txt'}\n",
      "{u'bytes': 417450056, u'last_modified': u'2015-09-21T12:08:14.000Z', u'hash': u'd8a4adc379200e885a1a2cad020f98e1', u'name': u'tweets_16.txt'}\n",
      "{u'bytes': 434176803, u'last_modified': u'2015-09-21T12:07:39.000Z', u'hash': u'63a28fb5c7de9d9aaf17e1b213b648a5', u'name': u'tweets_17.txt'}\n",
      "{u'bytes': 535627632, u'last_modified': u'2015-09-21T12:15:10.000Z', u'hash': u'3a9bfc579b152fad847740648cfc6945', u'name': u'tweets_18.txt'}\n",
      "{u'bytes': 158242542, u'last_modified': u'2015-10-23T09:30:43.000Z', u'hash': u'ab28d5996aba778c1ad4b71cd2734690', u'name': u'tweets_19.txt'}\n",
      "{u'bytes': 537524825, u'last_modified': u'2015-09-21T12:15:00.000Z', u'hash': u'fbc7d652ec1838800bf287f5c2e5953d', u'name': u'tweets_2.txt'}\n",
      "{u'bytes': 571183427, u'last_modified': u'2015-09-21T12:15:41.000Z', u'hash': u'deec57f780ea44bf0ef597c0896cc420', u'name': u'tweets_3.txt'}\n",
      "{u'bytes': 562281250, u'last_modified': u'2015-09-21T12:15:53.000Z', u'hash': u'4e7b854fa8fb04c3f32f10a7ecdf2085', u'name': u'tweets_4.txt'}\n",
      "{u'bytes': 552669117, u'last_modified': u'2015-09-21T12:15:28.000Z', u'hash': u'04a21a43faa795521c5568368c272eb9', u'name': u'tweets_5.txt'}\n",
      "{u'bytes': 499981176, u'last_modified': u'2015-09-21T12:15:49.000Z', u'hash': u'a2ff525854d5e48ab06a7db248086c6a', u'name': u'tweets_6.txt'}\n",
      "{u'bytes': 483502988, u'last_modified': u'2015-09-21T12:15:44.000Z', u'hash': u'03c36de5b870c98a3aea0e4940c1286e', u'name': u'tweets_7.txt'}\n",
      "{u'bytes': 432526509, u'last_modified': u'2015-09-21T12:15:36.000Z', u'hash': u'1115f389b1ecb38ae396ef2fc4229e4c', u'name': u'tweets_8.txt'}\n",
      "{u'bytes': 538391718, u'last_modified': u'2015-09-21T12:16:02.000Z', u'hash': u'15cd02d7b97d5cc183780fc2fb0f505e', u'name': u'tweets_9.txt'}\n"
     ]
    }
   ],
   "source": [
    "import os\n",
    "from sys import argv\n",
    "import time\n",
    "from novaclient.client import Client\n",
    "import uuid\n",
    "import swiftclient.client\n",
    "config = {'user':os.environ['OS_USERNAME'], \n",
    "          'key':os.environ['OS_PASSWORD'],\n",
    "          'tenant_name':os.environ['OS_TENANT_NAME'],\n",
    "          'authurl':os.environ['OS_AUTH_URL']}\n",
    "\n",
    "\n",
    "conn = swiftclient.client.Connection(auth_version=2, **config)\n",
    "tmp = conn.get_container(\"tweets\")\n",
    "for num in range(0,len(tmp[1])):\n",
    "    print(tmp[1][num]['name'])\n",
    "    #print(tmp[1][num])\n",
    "    "
   ]
  },
  {
   "cell_type": "code",
   "execution_count": 1,
   "metadata": {
    "collapsed": false
   },
   "outputs": [
    {
     "name": "stdout",
     "output_type": "stream",
     "text": [
      "TEST\n"
     ]
    }
   ],
   "source": [
    "print(\"TEST\")"
   ]
  },
  {
   "cell_type": "code",
   "execution_count": 8,
   "metadata": {
    "collapsed": false
   },
   "outputs": [],
   "source": [
    "a = conn.get_object(\"tweets\", 'tweets_0.txt')"
   ]
  },
  {
   "cell_type": "code",
   "execution_count": 9,
   "metadata": {
    "collapsed": false
   },
   "outputs": [],
   "source": [
    "print(a)"
   ]
  },
  {
   "cell_type": "code",
   "execution_count": 12,
   "metadata": {
    "collapsed": true
   },
   "outputs": [],
   "source": [
    "from celery import Celery\n",
    "import json\n",
    "from collections import Counter\n",
    "\n",
    "app = Celery('tasks', backend='rpc://', broker='amqp://')\n",
    "\n",
    "@app.task\n",
    "def getJson():\n",
    "    #with open(\"/home/hampus/skola/CloudComputing/FilesFromAssignments2015-09-15/C3/localSolution/tweets.txt\") as f:\n",
    "    content = a #f.readlines()\n",
    "    tmp = runme.delay(content)\n",
    "    return tmp\n",
    "\n",
    "\n",
    "# INPUT = list \n",
    "# Varje rad motsvarar en array. varannat.\n",
    "@app.task\n",
    "def runme(Jdata):\n",
    "    tmp = Counter()\n",
    "\n",
    "    for item in Jdata:\n",
    "        if(1<len(item)): # Removes Empty rows\n",
    "            tmp = tmp + manageRow.delay(item)            \n",
    "    return(tmp)\n",
    "\n",
    "@app.task\n",
    "def manageRow(item):\n",
    "    result = Counter()\n",
    "    data = json.loads(item)\n",
    "    if('retweeted_status' not in data.keys()): #Removes retweets\n",
    "        result  = Counter(data['text'].split())\n",
    "    return result\n",
    "\n",
    "#runme(getJson())\n"
   ]
  },
  {
   "cell_type": "code",
   "execution_count": 13,
   "metadata": {
    "collapsed": false
   },
   "outputs": [],
   "source": [
    "tmp = getJson.delay()"
   ]
  },
  {
   "cell_type": "code",
   "execution_count": 14,
   "metadata": {
    "collapsed": false
   },
   "outputs": [
    {
     "data": {
      "text/plain": [
       "False"
      ]
     },
     "execution_count": 14,
     "metadata": {},
     "output_type": "execute_result"
    }
   ],
   "source": [
    "tmp.ready()"
   ]
  },
  {
   "cell_type": "code",
   "execution_count": 15,
   "metadata": {
    "collapsed": false
   },
   "outputs": [
    {
     "ename": "KeyboardInterrupt",
     "evalue": "",
     "output_type": "error",
     "traceback": [
      "\u001b[1;31m---------------------------------------------------------------------------\u001b[0m",
      "\u001b[1;31mKeyboardInterrupt\u001b[0m                         Traceback (most recent call last)",
      "\u001b[1;32m<ipython-input-15-138aff6d3168>\u001b[0m in \u001b[0;36m<module>\u001b[1;34m()\u001b[0m\n\u001b[1;32m----> 1\u001b[1;33m \u001b[1;32mprint\u001b[0m\u001b[1;33m(\u001b[0m\u001b[0mtmp\u001b[0m\u001b[1;33m.\u001b[0m\u001b[0mget\u001b[0m\u001b[1;33m(\u001b[0m\u001b[1;33m)\u001b[0m\u001b[1;33m)\u001b[0m\u001b[1;33m\u001b[0m\u001b[0m\n\u001b[0m",
      "\u001b[1;32m/usr/local/lib/python2.7/dist-packages/celery/result.pyc\u001b[0m in \u001b[0;36mget\u001b[1;34m(self, timeout, propagate, interval, no_ack, follow_parents, EXCEPTION_STATES, PROPAGATE_STATES)\u001b[0m\n\u001b[0;32m    167\u001b[0m             \u001b[0minterval\u001b[0m\u001b[1;33m=\u001b[0m\u001b[0minterval\u001b[0m\u001b[1;33m,\u001b[0m\u001b[1;33m\u001b[0m\u001b[0m\n\u001b[0;32m    168\u001b[0m             \u001b[0mon_interval\u001b[0m\u001b[1;33m=\u001b[0m\u001b[0mon_interval\u001b[0m\u001b[1;33m,\u001b[0m\u001b[1;33m\u001b[0m\u001b[0m\n\u001b[1;32m--> 169\u001b[1;33m             \u001b[0mno_ack\u001b[0m\u001b[1;33m=\u001b[0m\u001b[0mno_ack\u001b[0m\u001b[1;33m,\u001b[0m\u001b[1;33m\u001b[0m\u001b[0m\n\u001b[0m\u001b[0;32m    170\u001b[0m         )\n\u001b[0;32m    171\u001b[0m         \u001b[1;32mif\u001b[0m \u001b[0mmeta\u001b[0m\u001b[1;33m:\u001b[0m\u001b[1;33m\u001b[0m\u001b[0m\n",
      "\u001b[1;32m/usr/local/lib/python2.7/dist-packages/celery/backends/amqp.pyc\u001b[0m in \u001b[0;36mwait_for\u001b[1;34m(self, task_id, timeout, cache, no_ack, on_interval, READY_STATES, PROPAGATE_STATES, **kwargs)\u001b[0m\n\u001b[0;32m    153\u001b[0m             \u001b[1;32mtry\u001b[0m\u001b[1;33m:\u001b[0m\u001b[1;33m\u001b[0m\u001b[0m\n\u001b[0;32m    154\u001b[0m                 return self.consume(task_id, timeout=timeout, no_ack=no_ack,\n\u001b[1;32m--> 155\u001b[1;33m                                     on_interval=on_interval)\n\u001b[0m\u001b[0;32m    156\u001b[0m             \u001b[1;32mexcept\u001b[0m \u001b[0msocket\u001b[0m\u001b[1;33m.\u001b[0m\u001b[0mtimeout\u001b[0m\u001b[1;33m:\u001b[0m\u001b[1;33m\u001b[0m\u001b[0m\n\u001b[0;32m    157\u001b[0m                 \u001b[1;32mraise\u001b[0m \u001b[0mTimeoutError\u001b[0m\u001b[1;33m(\u001b[0m\u001b[1;34m'The operation timed out.'\u001b[0m\u001b[1;33m)\u001b[0m\u001b[1;33m\u001b[0m\u001b[0m\n",
      "\u001b[1;32m/usr/local/lib/python2.7/dist-packages/celery/backends/amqp.pyc\u001b[0m in \u001b[0;36mconsume\u001b[1;34m(self, task_id, timeout, no_ack, on_interval)\u001b[0m\n\u001b[0;32m    229\u001b[0m                     \u001b[1;32mtry\u001b[0m\u001b[1;33m:\u001b[0m\u001b[1;33m\u001b[0m\u001b[0m\n\u001b[0;32m    230\u001b[0m                         return wait(\n\u001b[1;32m--> 231\u001b[1;33m                             conn, consumer, timeout, on_interval)[task_id]\n\u001b[0m\u001b[0;32m    232\u001b[0m                     \u001b[1;32mexcept\u001b[0m \u001b[0mKeyError\u001b[0m\u001b[1;33m:\u001b[0m\u001b[1;33m\u001b[0m\u001b[0m\n\u001b[0;32m    233\u001b[0m                         \u001b[1;32mcontinue\u001b[0m\u001b[1;33m\u001b[0m\u001b[0m\n",
      "\u001b[1;32m/usr/local/lib/python2.7/dist-packages/celery/backends/amqp.pyc\u001b[0m in \u001b[0;36mdrain_events\u001b[1;34m(self, connection, consumer, timeout, on_interval, now, wait)\u001b[0m\n\u001b[0;32m    210\u001b[0m                 \u001b[1;32mraise\u001b[0m \u001b[0msocket\u001b[0m\u001b[1;33m.\u001b[0m\u001b[0mtimeout\u001b[0m\u001b[1;33m(\u001b[0m\u001b[1;33m)\u001b[0m\u001b[1;33m\u001b[0m\u001b[0m\n\u001b[0;32m    211\u001b[0m             \u001b[1;32mtry\u001b[0m\u001b[1;33m:\u001b[0m\u001b[1;33m\u001b[0m\u001b[0m\n\u001b[1;32m--> 212\u001b[1;33m                 \u001b[0mwait\u001b[0m\u001b[1;33m(\u001b[0m\u001b[0mtimeout\u001b[0m\u001b[1;33m=\u001b[0m\u001b[1;36m1\u001b[0m\u001b[1;33m)\u001b[0m\u001b[1;33m\u001b[0m\u001b[0m\n\u001b[0m\u001b[0;32m    213\u001b[0m             \u001b[1;32mexcept\u001b[0m \u001b[0msocket\u001b[0m\u001b[1;33m.\u001b[0m\u001b[0mtimeout\u001b[0m\u001b[1;33m:\u001b[0m\u001b[1;33m\u001b[0m\u001b[0m\n\u001b[0;32m    214\u001b[0m                 \u001b[1;32mpass\u001b[0m\u001b[1;33m\u001b[0m\u001b[0m\n",
      "\u001b[1;32m/usr/local/lib/python2.7/dist-packages/kombu/connection.pyc\u001b[0m in \u001b[0;36mdrain_events\u001b[1;34m(self, **kwargs)\u001b[0m\n\u001b[0;32m    273\u001b[0m \u001b[1;33m\u001b[0m\u001b[0m\n\u001b[0;32m    274\u001b[0m         \"\"\"\n\u001b[1;32m--> 275\u001b[1;33m         \u001b[1;32mreturn\u001b[0m \u001b[0mself\u001b[0m\u001b[1;33m.\u001b[0m\u001b[0mtransport\u001b[0m\u001b[1;33m.\u001b[0m\u001b[0mdrain_events\u001b[0m\u001b[1;33m(\u001b[0m\u001b[0mself\u001b[0m\u001b[1;33m.\u001b[0m\u001b[0mconnection\u001b[0m\u001b[1;33m,\u001b[0m \u001b[1;33m**\u001b[0m\u001b[0mkwargs\u001b[0m\u001b[1;33m)\u001b[0m\u001b[1;33m\u001b[0m\u001b[0m\n\u001b[0m\u001b[0;32m    276\u001b[0m \u001b[1;33m\u001b[0m\u001b[0m\n\u001b[0;32m    277\u001b[0m     \u001b[1;32mdef\u001b[0m \u001b[0mmaybe_close_channel\u001b[0m\u001b[1;33m(\u001b[0m\u001b[0mself\u001b[0m\u001b[1;33m,\u001b[0m \u001b[0mchannel\u001b[0m\u001b[1;33m)\u001b[0m\u001b[1;33m:\u001b[0m\u001b[1;33m\u001b[0m\u001b[0m\n",
      "\u001b[1;32m/usr/local/lib/python2.7/dist-packages/kombu/transport/pyamqp.pyc\u001b[0m in \u001b[0;36mdrain_events\u001b[1;34m(self, connection, **kwargs)\u001b[0m\n\u001b[0;32m     93\u001b[0m \u001b[1;33m\u001b[0m\u001b[0m\n\u001b[0;32m     94\u001b[0m     \u001b[1;32mdef\u001b[0m \u001b[0mdrain_events\u001b[0m\u001b[1;33m(\u001b[0m\u001b[0mself\u001b[0m\u001b[1;33m,\u001b[0m \u001b[0mconnection\u001b[0m\u001b[1;33m,\u001b[0m \u001b[1;33m**\u001b[0m\u001b[0mkwargs\u001b[0m\u001b[1;33m)\u001b[0m\u001b[1;33m:\u001b[0m\u001b[1;33m\u001b[0m\u001b[0m\n\u001b[1;32m---> 95\u001b[1;33m         \u001b[1;32mreturn\u001b[0m \u001b[0mconnection\u001b[0m\u001b[1;33m.\u001b[0m\u001b[0mdrain_events\u001b[0m\u001b[1;33m(\u001b[0m\u001b[1;33m**\u001b[0m\u001b[0mkwargs\u001b[0m\u001b[1;33m)\u001b[0m\u001b[1;33m\u001b[0m\u001b[0m\n\u001b[0m\u001b[0;32m     96\u001b[0m \u001b[1;33m\u001b[0m\u001b[0m\n\u001b[0;32m     97\u001b[0m     \u001b[1;32mdef\u001b[0m \u001b[0mestablish_connection\u001b[0m\u001b[1;33m(\u001b[0m\u001b[0mself\u001b[0m\u001b[1;33m)\u001b[0m\u001b[1;33m:\u001b[0m\u001b[1;33m\u001b[0m\u001b[0m\n",
      "\u001b[1;32m/usr/local/lib/python2.7/dist-packages/amqp/connection.pyc\u001b[0m in \u001b[0;36mdrain_events\u001b[1;34m(self, timeout)\u001b[0m\n\u001b[0;32m    300\u001b[0m         \u001b[0mchanmap\u001b[0m \u001b[1;33m=\u001b[0m \u001b[0mself\u001b[0m\u001b[1;33m.\u001b[0m\u001b[0mchannels\u001b[0m\u001b[1;33m\u001b[0m\u001b[0m\n\u001b[0;32m    301\u001b[0m         chanid, method_sig, args, content = self._wait_multiple(\n\u001b[1;32m--> 302\u001b[1;33m             \u001b[0mchanmap\u001b[0m\u001b[1;33m,\u001b[0m \u001b[0mNone\u001b[0m\u001b[1;33m,\u001b[0m \u001b[0mtimeout\u001b[0m\u001b[1;33m=\u001b[0m\u001b[0mtimeout\u001b[0m\u001b[1;33m,\u001b[0m\u001b[1;33m\u001b[0m\u001b[0m\n\u001b[0m\u001b[0;32m    303\u001b[0m         )\n\u001b[0;32m    304\u001b[0m \u001b[1;33m\u001b[0m\u001b[0m\n",
      "\u001b[1;32m/usr/local/lib/python2.7/dist-packages/amqp/connection.pyc\u001b[0m in \u001b[0;36m_wait_multiple\u001b[1;34m(self, channels, allowed_methods, timeout)\u001b[0m\n\u001b[0;32m    363\u001b[0m         \u001b[0mwait\u001b[0m \u001b[1;33m=\u001b[0m \u001b[0mself\u001b[0m\u001b[1;33m.\u001b[0m\u001b[0mwait\u001b[0m\u001b[1;33m\u001b[0m\u001b[0m\n\u001b[0;32m    364\u001b[0m         \u001b[1;32mwhile\u001b[0m \u001b[1;36m1\u001b[0m\u001b[1;33m:\u001b[0m\u001b[1;33m\u001b[0m\u001b[0m\n\u001b[1;32m--> 365\u001b[1;33m             \u001b[0mchannel\u001b[0m\u001b[1;33m,\u001b[0m \u001b[0mmethod_sig\u001b[0m\u001b[1;33m,\u001b[0m \u001b[0margs\u001b[0m\u001b[1;33m,\u001b[0m \u001b[0mcontent\u001b[0m \u001b[1;33m=\u001b[0m \u001b[0mread_timeout\u001b[0m\u001b[1;33m(\u001b[0m\u001b[0mtimeout\u001b[0m\u001b[1;33m)\u001b[0m\u001b[1;33m\u001b[0m\u001b[0m\n\u001b[0m\u001b[0;32m    366\u001b[0m \u001b[1;33m\u001b[0m\u001b[0m\n\u001b[0;32m    367\u001b[0m             if channel in channels and (\n",
      "\u001b[1;32m/usr/local/lib/python2.7/dist-packages/amqp/connection.pyc\u001b[0m in \u001b[0;36mread_timeout\u001b[1;34m(self, timeout)\u001b[0m\n\u001b[0;32m    334\u001b[0m         \u001b[1;32mtry\u001b[0m\u001b[1;33m:\u001b[0m\u001b[1;33m\u001b[0m\u001b[0m\n\u001b[0;32m    335\u001b[0m             \u001b[1;32mtry\u001b[0m\u001b[1;33m:\u001b[0m\u001b[1;33m\u001b[0m\u001b[0m\n\u001b[1;32m--> 336\u001b[1;33m                 \u001b[1;32mreturn\u001b[0m \u001b[0mself\u001b[0m\u001b[1;33m.\u001b[0m\u001b[0mmethod_reader\u001b[0m\u001b[1;33m.\u001b[0m\u001b[0mread_method\u001b[0m\u001b[1;33m(\u001b[0m\u001b[1;33m)\u001b[0m\u001b[1;33m\u001b[0m\u001b[0m\n\u001b[0m\u001b[0;32m    337\u001b[0m             \u001b[1;32mexcept\u001b[0m \u001b[0mSSLError\u001b[0m \u001b[1;32mas\u001b[0m \u001b[0mexc\u001b[0m\u001b[1;33m:\u001b[0m\u001b[1;33m\u001b[0m\u001b[0m\n\u001b[0;32m    338\u001b[0m                 \u001b[1;31m# http://bugs.python.org/issue10272\u001b[0m\u001b[1;33m\u001b[0m\u001b[1;33m\u001b[0m\u001b[0m\n",
      "\u001b[1;32m/usr/local/lib/python2.7/dist-packages/amqp/method_framing.pyc\u001b[0m in \u001b[0;36mread_method\u001b[1;34m(self)\u001b[0m\n\u001b[0;32m    184\u001b[0m     \u001b[1;32mdef\u001b[0m \u001b[0mread_method\u001b[0m\u001b[1;33m(\u001b[0m\u001b[0mself\u001b[0m\u001b[1;33m)\u001b[0m\u001b[1;33m:\u001b[0m\u001b[1;33m\u001b[0m\u001b[0m\n\u001b[0;32m    185\u001b[0m         \u001b[1;34m\"\"\"Read a method from the peer.\"\"\"\u001b[0m\u001b[1;33m\u001b[0m\u001b[0m\n\u001b[1;32m--> 186\u001b[1;33m         \u001b[0mself\u001b[0m\u001b[1;33m.\u001b[0m\u001b[0m_next_method\u001b[0m\u001b[1;33m(\u001b[0m\u001b[1;33m)\u001b[0m\u001b[1;33m\u001b[0m\u001b[0m\n\u001b[0m\u001b[0;32m    187\u001b[0m         \u001b[0mm\u001b[0m \u001b[1;33m=\u001b[0m \u001b[0mself\u001b[0m\u001b[1;33m.\u001b[0m\u001b[0m_quick_get\u001b[0m\u001b[1;33m(\u001b[0m\u001b[1;33m)\u001b[0m\u001b[1;33m\u001b[0m\u001b[0m\n\u001b[0;32m    188\u001b[0m         \u001b[1;32mif\u001b[0m \u001b[0misinstance\u001b[0m\u001b[1;33m(\u001b[0m\u001b[0mm\u001b[0m\u001b[1;33m,\u001b[0m \u001b[0mException\u001b[0m\u001b[1;33m)\u001b[0m\u001b[1;33m:\u001b[0m\u001b[1;33m\u001b[0m\u001b[0m\n",
      "\u001b[1;32m/usr/local/lib/python2.7/dist-packages/amqp/method_framing.pyc\u001b[0m in \u001b[0;36m_next_method\u001b[1;34m(self)\u001b[0m\n\u001b[0;32m    105\u001b[0m         \u001b[1;32mwhile\u001b[0m \u001b[1;32mnot\u001b[0m \u001b[0mqueue\u001b[0m\u001b[1;33m:\u001b[0m\u001b[1;33m\u001b[0m\u001b[0m\n\u001b[0;32m    106\u001b[0m             \u001b[1;32mtry\u001b[0m\u001b[1;33m:\u001b[0m\u001b[1;33m\u001b[0m\u001b[0m\n\u001b[1;32m--> 107\u001b[1;33m                 \u001b[0mframe_type\u001b[0m\u001b[1;33m,\u001b[0m \u001b[0mchannel\u001b[0m\u001b[1;33m,\u001b[0m \u001b[0mpayload\u001b[0m \u001b[1;33m=\u001b[0m \u001b[0mread_frame\u001b[0m\u001b[1;33m(\u001b[0m\u001b[1;33m)\u001b[0m\u001b[1;33m\u001b[0m\u001b[0m\n\u001b[0m\u001b[0;32m    108\u001b[0m             \u001b[1;32mexcept\u001b[0m \u001b[0mException\u001b[0m \u001b[1;32mas\u001b[0m \u001b[0mexc\u001b[0m\u001b[1;33m:\u001b[0m\u001b[1;33m\u001b[0m\u001b[0m\n\u001b[0;32m    109\u001b[0m                 \u001b[1;31m#\u001b[0m\u001b[1;33m\u001b[0m\u001b[1;33m\u001b[0m\u001b[0m\n",
      "\u001b[1;32m/usr/local/lib/python2.7/dist-packages/amqp/transport.pyc\u001b[0m in \u001b[0;36mread_frame\u001b[1;34m(self, unpack)\u001b[0m\n\u001b[0;32m    152\u001b[0m         \u001b[0mread_frame_buffer\u001b[0m \u001b[1;33m=\u001b[0m \u001b[0mEMPTY_BUFFER\u001b[0m\u001b[1;33m\u001b[0m\u001b[0m\n\u001b[0;32m    153\u001b[0m         \u001b[1;32mtry\u001b[0m\u001b[1;33m:\u001b[0m\u001b[1;33m\u001b[0m\u001b[0m\n\u001b[1;32m--> 154\u001b[1;33m             \u001b[0mframe_header\u001b[0m \u001b[1;33m=\u001b[0m \u001b[0mread\u001b[0m\u001b[1;33m(\u001b[0m\u001b[1;36m7\u001b[0m\u001b[1;33m,\u001b[0m \u001b[0mTrue\u001b[0m\u001b[1;33m)\u001b[0m\u001b[1;33m\u001b[0m\u001b[0m\n\u001b[0m\u001b[0;32m    155\u001b[0m             \u001b[0mread_frame_buffer\u001b[0m \u001b[1;33m+=\u001b[0m \u001b[0mframe_header\u001b[0m\u001b[1;33m\u001b[0m\u001b[0m\n\u001b[0;32m    156\u001b[0m             \u001b[0mframe_type\u001b[0m\u001b[1;33m,\u001b[0m \u001b[0mchannel\u001b[0m\u001b[1;33m,\u001b[0m \u001b[0msize\u001b[0m \u001b[1;33m=\u001b[0m \u001b[0munpack\u001b[0m\u001b[1;33m(\u001b[0m\u001b[1;34m'>BHI'\u001b[0m\u001b[1;33m,\u001b[0m \u001b[0mframe_header\u001b[0m\u001b[1;33m)\u001b[0m\u001b[1;33m\u001b[0m\u001b[0m\n",
      "\u001b[1;32m/usr/local/lib/python2.7/dist-packages/amqp/transport.pyc\u001b[0m in \u001b[0;36m_read\u001b[1;34m(self, n, initial, _errnos)\u001b[0m\n\u001b[0;32m    275\u001b[0m             \u001b[1;32mwhile\u001b[0m \u001b[0mlen\u001b[0m\u001b[1;33m(\u001b[0m\u001b[0mrbuf\u001b[0m\u001b[1;33m)\u001b[0m \u001b[1;33m<\u001b[0m \u001b[0mn\u001b[0m\u001b[1;33m:\u001b[0m\u001b[1;33m\u001b[0m\u001b[0m\n\u001b[0;32m    276\u001b[0m                 \u001b[1;32mtry\u001b[0m\u001b[1;33m:\u001b[0m\u001b[1;33m\u001b[0m\u001b[0m\n\u001b[1;32m--> 277\u001b[1;33m                     \u001b[0ms\u001b[0m \u001b[1;33m=\u001b[0m \u001b[0mrecv\u001b[0m\u001b[1;33m(\u001b[0m\u001b[0mn\u001b[0m \u001b[1;33m-\u001b[0m \u001b[0mlen\u001b[0m\u001b[1;33m(\u001b[0m\u001b[0mrbuf\u001b[0m\u001b[1;33m)\u001b[0m\u001b[1;33m)\u001b[0m\u001b[1;33m\u001b[0m\u001b[0m\n\u001b[0m\u001b[0;32m    278\u001b[0m                 \u001b[1;32mexcept\u001b[0m \u001b[0msocket\u001b[0m\u001b[1;33m.\u001b[0m\u001b[0merror\u001b[0m \u001b[1;32mas\u001b[0m \u001b[0mexc\u001b[0m\u001b[1;33m:\u001b[0m\u001b[1;33m\u001b[0m\u001b[0m\n\u001b[0;32m    279\u001b[0m                     \u001b[1;32mif\u001b[0m \u001b[1;32mnot\u001b[0m \u001b[0minitial\u001b[0m \u001b[1;32mand\u001b[0m \u001b[0mexc\u001b[0m\u001b[1;33m.\u001b[0m\u001b[0merrno\u001b[0m \u001b[1;32min\u001b[0m \u001b[0m_errnos\u001b[0m\u001b[1;33m:\u001b[0m\u001b[1;33m\u001b[0m\u001b[0m\n",
      "\u001b[1;31mKeyboardInterrupt\u001b[0m: "
     ]
    }
   ],
   "source": [
    "print(tmp.get())"
   ]
  }
 ],
 "metadata": {
  "kernelspec": {
   "display_name": "Python 2",
   "language": "python",
   "name": "python2"
  },
  "language_info": {
   "codemirror_mode": {
    "name": "ipython",
    "version": 2
   },
   "file_extension": ".py",
   "mimetype": "text/x-python",
   "name": "python",
   "nbconvert_exporter": "python",
   "pygments_lexer": "ipython2",
   "version": "2.7.6"
  }
 },
 "nbformat": 4,
 "nbformat_minor": 0
}
