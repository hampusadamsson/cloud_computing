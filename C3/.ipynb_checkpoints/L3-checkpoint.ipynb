{
 "cells": [
  {
   "cell_type": "code",
   "execution_count": 1,
   "metadata": {
    "collapsed": false
   },
   "outputs": [
    {
     "name": "stdout",
     "output_type": "stream",
     "text": [
      "Ubuntu Server running at: 130.238.29.107\n"
     ]
    }
   ],
   "source": [
    "import os\n",
    "from sys import argv\n",
    "import time\n",
    "from novaclient.client import Client\n",
    "\n",
    "config = {'username':os.environ['OS_USERNAME'],\n",
    "          'api_key':os.environ['OS_PASSWORD'],\n",
    "          'project_id':os.environ['OS_TENANT_NAME'],\n",
    "          'auth_url':os.environ['OS_AUTH_URL']}\n",
    "\n",
    "nc = Client('2',**config)\n",
    "ubuntu = 'Ubuntu Server 14.04 LTS (Trusty Tahr)'\n",
    "image = nc.images.find(name=ubuntu)\n",
    "flavor = nc.flavors.find(name='m1.medium')\n",
    "network = nc.networks.find(label='ACC-Course-net')\n",
    "userdata = open('userdata-project.yml', 'r')\n",
    "name = argv[1]\n",
    "\n",
    "try:\n",
    "    server = nc.servers.create(name=name, image=image.id, flavor=flavor.id,\n",
    "                               network=network.id, key_name='haadkey',\n",
    "                               userdata=userdata, security_groups=None)\n",
    "finally:\n",
    "    userdata.close()\n",
    "\n",
    "floating_ips = nc.floating_ips.list()\n",
    "state = server.status\n",
    "\n",
    "while(state == 'BUILD'):\n",
    "    time.sleep(4)\n",
    "    server = nc.servers.get(server.id)\n",
    "    state = server.status\n",
    "\n",
    "for ip in floating_ips:\n",
    "    if ip.instance_id == None:\n",
    "        server.add_floating_ip(ip)\n",
    "        print 'Ubuntu Server running at: {}'.format(ip.ip)\n",
    "        break\n",
    "else:\n",
    "    print 'No available floating IPs in the pool'\n"
   ]
  },
  {
   "cell_type": "code",
   "execution_count": 6,
   "metadata": {
    "collapsed": false
   },
   "outputs": [
    {
     "name": "stdout",
     "output_type": "stream",
     "text": [
      "{u'bytes': 158242542, u'last_modified': u'2015-10-23T09:28:21.000Z', u'hash': u'ab28d5996aba778c1ad4b71cd2734690', u'name': u'tweets_0.txt'}\n",
      "{u'bytes': 573803563, u'last_modified': u'2015-09-21T12:10:19.000Z', u'hash': u'09a3d8b0c8a56b8e167f31f19f268a5e', u'name': u'tweets_1.txt'}\n",
      "{u'bytes': 567942321, u'last_modified': u'2015-09-21T12:10:27.000Z', u'hash': u'54b7c98b3c1c11274315e97bf021482b', u'name': u'tweets_10.txt'}\n",
      "{u'bytes': 574149312, u'last_modified': u'2015-09-21T12:09:19.000Z', u'hash': u'e7be511ba18e31e6258c05d5f09b20af', u'name': u'tweets_11.txt'}\n",
      "{u'bytes': 482936235, u'last_modified': u'2015-09-21T12:08:58.000Z', u'hash': u'167ef442eeef8367ae38f316a7976561', u'name': u'tweets_12.txt'}\n",
      "{u'bytes': 520588579, u'last_modified': u'2015-09-21T12:08:09.000Z', u'hash': u'027ead43ce292ec5c9574f67c0e0c335', u'name': u'tweets_13.txt'}\n",
      "{u'bytes': 460688235, u'last_modified': u'2015-09-21T12:08:19.000Z', u'hash': u'c4b1427726bd8463dd3ab5648b6a7118', u'name': u'tweets_14.txt'}\n",
      "{u'bytes': 420381405, u'last_modified': u'2015-09-21T12:09:10.000Z', u'hash': u'f223b572ae4b350e5c9586da77f4d9a3', u'name': u'tweets_15.txt'}\n",
      "{u'bytes': 417450056, u'last_modified': u'2015-09-21T12:08:14.000Z', u'hash': u'd8a4adc379200e885a1a2cad020f98e1', u'name': u'tweets_16.txt'}\n",
      "{u'bytes': 434176803, u'last_modified': u'2015-09-21T12:07:39.000Z', u'hash': u'63a28fb5c7de9d9aaf17e1b213b648a5', u'name': u'tweets_17.txt'}\n",
      "{u'bytes': 535627632, u'last_modified': u'2015-09-21T12:15:10.000Z', u'hash': u'3a9bfc579b152fad847740648cfc6945', u'name': u'tweets_18.txt'}\n",
      "{u'bytes': 158242542, u'last_modified': u'2015-10-23T09:30:43.000Z', u'hash': u'ab28d5996aba778c1ad4b71cd2734690', u'name': u'tweets_19.txt'}\n",
      "{u'bytes': 537524825, u'last_modified': u'2015-09-21T12:15:00.000Z', u'hash': u'fbc7d652ec1838800bf287f5c2e5953d', u'name': u'tweets_2.txt'}\n",
      "{u'bytes': 571183427, u'last_modified': u'2015-09-21T12:15:41.000Z', u'hash': u'deec57f780ea44bf0ef597c0896cc420', u'name': u'tweets_3.txt'}\n",
      "{u'bytes': 562281250, u'last_modified': u'2015-09-21T12:15:53.000Z', u'hash': u'4e7b854fa8fb04c3f32f10a7ecdf2085', u'name': u'tweets_4.txt'}\n",
      "{u'bytes': 552669117, u'last_modified': u'2015-09-21T12:15:28.000Z', u'hash': u'04a21a43faa795521c5568368c272eb9', u'name': u'tweets_5.txt'}\n",
      "{u'bytes': 499981176, u'last_modified': u'2015-09-21T12:15:49.000Z', u'hash': u'a2ff525854d5e48ab06a7db248086c6a', u'name': u'tweets_6.txt'}\n",
      "{u'bytes': 483502988, u'last_modified': u'2015-09-21T12:15:44.000Z', u'hash': u'03c36de5b870c98a3aea0e4940c1286e', u'name': u'tweets_7.txt'}\n",
      "{u'bytes': 432526509, u'last_modified': u'2015-09-21T12:15:36.000Z', u'hash': u'1115f389b1ecb38ae396ef2fc4229e4c', u'name': u'tweets_8.txt'}\n",
      "{u'bytes': 538391718, u'last_modified': u'2015-09-21T12:16:02.000Z', u'hash': u'15cd02d7b97d5cc183780fc2fb0f505e', u'name': u'tweets_9.txt'}\n"
     ]
    }
   ],
   "source": [
    "import uuid\n",
    "import swiftclient.client\n",
    "config = {'user':os.environ['OS_USERNAME'], \n",
    "          'key':os.environ['OS_PASSWORD'],\n",
    "          'tenant_name':os.environ['OS_TENANT_NAME'],\n",
    "          'authurl':os.environ['OS_AUTH_URL']}\n",
    "\n",
    "\n",
    "conn = swiftclient.client.Connection(auth_version=2, **config)\n",
    "tmp = conn.get_container(\"tweets\")\n",
    "for num in range(0,len(tmp[1])):\n",
    "    print(tmp[1][num]['name'])\n",
    "    #print(tmp[1][num])\n",
    "    "
   ]
  },
  {
   "cell_type": "code",
   "execution_count": null,
   "metadata": {
    "collapsed": true
   },
   "outputs": [],
   "source": [
    "from celery import Celery\n",
    "import json\n",
    "from collections import Counter\n",
    "\n",
    "app = Celery('tasks', backend='rpc://', broker='amqp://')\n",
    "\n",
    "@app.task\n",
    "def getJson():\n",
    "    with open(\"/home/hampus/skola/CloudComputing/FilesFromAssignments2015-09-15/C3/localSolution/tweets.txt\") as f:\n",
    "        content = f.readlines()\n",
    "    tmp = runme.delay(content)\n",
    "    return tmp\n",
    "\n",
    "\n",
    "# INPUT = list \n",
    "# Varje rad motsvarar en array. varannat.\n",
    "@app.task\n",
    "def runme(Jdata):\n",
    "    tmp = Counter()\n",
    "\n",
    "    for item in Jdata:\n",
    "        if(1<len(item)): # Removes Empty rows\n",
    "            tmp = tmp + manageRow.delay(item)            \n",
    "    return(tmp)\n",
    "\n",
    "@app.task\n",
    "def manageRow(item):\n",
    "    result = Counter()\n",
    "    data = json.loads(item)\n",
    "    if('retweeted_status' not in data.keys()): #Removes retweets\n",
    "        result  = Counter(data['text'].split())\n",
    "    return result\n",
    "\n",
    "#runme(getJson())\n"
   ]
  }
 ],
 "metadata": {
  "kernelspec": {
   "display_name": "Python 2",
   "language": "python",
   "name": "python2"
  },
  "language_info": {
   "codemirror_mode": {
    "name": "ipython",
    "version": 2
   },
   "file_extension": ".py",
   "mimetype": "text/x-python",
   "name": "python",
   "nbconvert_exporter": "python",
   "pygments_lexer": "ipython2",
   "version": "2.7.6"
  }
 },
 "nbformat": 4,
 "nbformat_minor": 0
}
